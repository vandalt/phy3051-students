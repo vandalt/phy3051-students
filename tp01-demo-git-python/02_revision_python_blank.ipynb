{
 "cells": [
  {
   "cell_type": "markdown",
   "id": "b1612e20",
   "metadata": {},
   "source": [
    "# TP 1 PHY3051 - Ajustement d'une droite à des données et programmation orientée objet\n",
    "\n",
    "Ajuster une droite à des données est un peu le \"hello world\" de l'analyse de données.\n",
    "Nous allons en faire un exemple très simple aujourd'hui.\n",
    "\n",
    "Le but est de se rafraîchir la mémoire sur les bases de Python et de l'analyse de données.\n",
    "À la fin du notebook, j'ai également inclut une brève présentation de la programmation orientée objet, qui sera utile lorsque nous verrons les réseaux de neurones artificiels.\n",
    "\n",
    "## Petite note sur les _notebooks_ Jupyter\n",
    "\n",
    "J'utiliserai des _notebooks_ Jupyter tout au long de la session pour les TPs.\n",
    "Je suggère également de remettre vos laboratoires dans ce format: il permet de combiner le code et la discussion et de remettre un seul fichier.\n",
    "Ceci dit, vous pouvez également remettre un rapport LaTeX avec les codes en pièce jointe.\n",
    "\n",
    "Personnellement, j'aime bien éditer les _notebooks_ dans mon éditeur de texte au lieu d'utiliser JupyterLab.\n",
    "Si c'est votre cas, je vous suggère d'utiliser [Jupytext](https://jupytext.readthedocs.io/en/latest/) pour convertir les notebooks\n",
    "en fichiers \".py\" compatibles avec Spyder, Sublime Text, Vim, etc.\n",
    "\n",
    "## Ajustement d'une droite\n",
    "\n",
    "Pour cette section, on s'intéressera uniquement à la simulation d'un jeu de données simple et à l'ajustement d'une droite par minimisation du $\\chi^2$. On ne couvrira pas le calcul des incertitudes sur nos paramètres, la comparaison de modèle ou la convergence de l'optimisation. Ces sujets seront présentés plus tard dans le cours.\n",
    "\n",
    "### Simulation d'un jeu de données\n",
    "\n",
    "Pour ajuster une droite à des données, il nous faut des données. Commençons par simuler un jeu de données simples,\n",
    "en assumant un bruit gaussien, indépendant entre les points, et avec des barres d'erreurs identiques."
   ]
  },
  {
   "cell_type": "code",
   "execution_count": null,
   "id": "cc3b776e",
   "metadata": {},
   "outputs": [],
   "source": [
    "import matplotlib.pyplot as plt\n",
    "import numpy as np\n",
    "from scipy.optimize import minimize"
   ]
  },
  {
   "cell_type": "code",
   "execution_count": null,
   "id": "79dc8b30",
   "metadata": {},
   "outputs": [],
   "source": [
    "# \"Nouvelle\" interface pour les nombres aléatoires avec Numpy\n",
    "rng = np.random.default_rng(seed=3051)"
   ]
  },
  {
   "cell_type": "markdown",
   "id": "b8ec13b0",
   "metadata": {
    "lines_to_next_cell": 2
   },
   "source": [
    "Dans la prochaine cellule, nous définissons une fonction pour notre modèle de droite $y = m x + b$.\n",
    "Elle servira à simuler des données et à ajuster le modèle.\n",
    "\n",
    "Remarquez que j'utilise des \"_type hints_\" pour indiquer le type de mes variables (`np.ndarray[float]` signifie un tableau Numpy dont les éléments sont des `float`s).\n",
    "Ils ne sont pas requis, mais aident à améliorer la clarté du code (et permettent à certains éditeurs de texte de fournir de meilleures suggestions de code).\n",
    "\n",
    "**À faire: Ajoutez le calcul de la droite et retournez le**"
   ]
  },
  {
   "cell_type": "code",
   "execution_count": null,
   "id": "4c76d248",
   "metadata": {},
   "outputs": [],
   "source": [
    "def linear_model(p: np.ndarray[float], x: np.ndarray[float]) -> np.ndarray[float]:\n",
    "    \"\"\"Modèle linéaire y = m * x + b\n",
    "\n",
    "    :param p: Tableau contenant les paramètres m et b, dans ce ordre\n",
    "    :param x: Tableau de valeurs x\n",
    "    :return: Valeurs y pour le modèle de droite\n",
    "    \"\"\"\n",
    "    # TODO: retourner mx+b"
   ]
  },
  {
   "cell_type": "markdown",
   "id": "57f6d895",
   "metadata": {},
   "source": [
    "On peut ensuite générer des valeurs X aléatoires (attention de bien les ordonner avec `sort`) et utiliser notre modèle pour générer le\n",
    "vrai signal Y.\n",
    "On ajoute du bruit au signal Y pour simuler des données expérimentales. Ici, toutes nos barres d'erreur ont la même valeur (`noise_level`).\n",
    "L'erreur ajoutée aux données est tirée d'une distribution normale centrée à 0 avec un écart-type égal à `noise_level`\n",
    "\n",
    "N'hésitez pas à changer ces valeurs pour tester différents scénarios.\n",
    "\n",
    "**À faire: simulez des barres d'erreurs ayant une valeur constante égale à `noise_level` injectez un bruit gaussien dont l'amplitude est égale à `yerr`**\n",
    "\n",
    "**À faire: affichez un graphique des données et du vrai signal sous-jacent**"
   ]
  },
  {
   "cell_type": "code",
   "execution_count": null,
   "id": "c1bccc83",
   "metadata": {
    "lines_to_next_cell": 1
   },
   "outputs": [],
   "source": [
    "N = 100  # Nombre de points\n",
    "m_true, b_true = 6, 2\n",
    "p_true = np.array([m_true, b_true])\n",
    "noise_level = 2  # Écrat-type du bruit gaussien\n",
    "\n",
    "x = np.sort(rng.uniform(0, 10, size=N))\n",
    "y_true = linear_model(p_true, x)\n",
    "\n",
    "# Bruit gaussien indépendant avec barres d'erreur uniformes\n",
    "# TODO: Compléter yerr et y\n",
    "yerr = \n",
    "y = \n",
    "\n",
    "# TODO: Afficher un graphique"
   ]
  },
  {
   "cell_type": "markdown",
   "id": "b49b9ccd",
   "metadata": {},
   "source": [
    "Voilà, on voit que les données sont assez proches du vrai signal, donc il ne devrait pas être trop difficile d'ajuster une droite\n",
    "et d'arriver à la bonne réponse.\n",
    "\n",
    "### Ajustement du modèle\n",
    "Pour l'ajustement du modèle, nous effectuerons une simple minimisation du $\\chi^2$ avec `scipy.optimize.minimize`.\n",
    "\n",
    "Les fonctions données à `minimize` doivent avoir un premier argument `p` qui est un tableau contenant les paramètres du modèle.\n",
    "\n",
    "**À faire: codez la fonction chi2**"
   ]
  },
  {
   "cell_type": "code",
   "execution_count": null,
   "id": "8b11c21e",
   "metadata": {
    "lines_to_next_cell": 1
   },
   "outputs": [],
   "source": [
    "def chi2_fun(\n",
    "    p: np.ndarray[float],\n",
    "    x: np.ndarray[float],\n",
    "    y: np.ndarray[float],\n",
    "    yerr: np.ndarray[float],\n",
    ") -> float:\n",
    "    \"\"\"Chi2 pour un modèle linéaire\n",
    "\n",
    "    :param p: Paramètres du modèle, m et b\n",
    "    :param x: Valeurs X des données\n",
    "    :param y: Valeurs Y des données\n",
    "    :param yerr: Incertitude en Y sur les données\n",
    "    :return: $\\chi^2$ pour l'ensemble des données\n",
    "    \"\"\"\n",
    "    # TODO: Compléter chi2"
   ]
  },
  {
   "cell_type": "markdown",
   "id": "29d9930a",
   "metadata": {},
   "source": [
    "En plus de la fonction `chi2_fun`, nous aurons besoin d'un estimé initial des paramètres, $m = 5$ et $b = 6$ semblent fournir une droite plutôt réaliste.\n",
    "\n",
    "**À faire: définissez un estimé initial des paramètres et affichez le avec les données pour s'assurer qu'il est réaliste**"
   ]
  },
  {
   "cell_type": "code",
   "execution_count": null,
   "id": "ce2b6da9",
   "metadata": {},
   "outputs": [],
   "source": [
    "# TODO: Définir p_guess\n",
    "p_guess = \n",
    "\n",
    "plt.plot(x, linear_model(p_guess, x), label=\"Initial guess\")\n",
    "plt.errorbar(x, y, yerr=yerr, fmt=\"k.\", label=\"Data\")\n",
    "plt.xlabel(\"X\")\n",
    "plt.ylabel(\"Y\")\n",
    "plt.legend()\n",
    "plt.show()"
   ]
  },
  {
   "cell_type": "markdown",
   "id": "e26e1cc8-bb5c-4911-8b55-7a0fa224ebbb",
   "metadata": {},
   "source": [
    "On peut maintenant optimiser la fonction\n",
    "\n",
    "**À faire**:\n",
    "\n",
    "- Utiliser `scipy.optimize.minimize()` pour minimiser le chi2\n",
    "- Afficher le résultat de l'optimisation (valeurs des paramètres, succes, nombre d'évaluation) avec `print()`\n",
    "- Calculer le modèle optimisé et les résidus\n",
    "- Afficher le modèle optimisé sur un graphique avec les données et la vraie valeur\n",
    "- Afficher un histogramme des résidus"
   ]
  },
  {
   "cell_type": "markdown",
   "id": "4997b622",
   "metadata": {},
   "source": [
    "Je vais maintenant sauvegarder le résultat. Le but ici est simplement d'ajouter des fichiers dans le répertoire Git qui devront être ignorés.\n",
    "Vous pouvez ajouter les deux noms à `.gitignore` pour que Git les ignore et ne tente pas de les publier sur GitHub."
   ]
  },
  {
   "cell_type": "code",
   "execution_count": null,
   "id": "efded2e2",
   "metadata": {},
   "outputs": [],
   "source": [
    "# Save the output\n",
    "np.savetxt(\"top_secret_data.txt\", np.vstack([x, y, yerr]).T)\n",
    "np.savetxt(\"top_secret_model.txt\", best_mod)"
   ]
  }
 ],
 "metadata": {
  "kernelspec": {
   "display_name": "Python 3 (ipykernel)",
   "language": "python",
   "name": "python3"
  },
  "language_info": {
   "codemirror_mode": {
    "name": "ipython",
    "version": 3
   },
   "file_extension": ".py",
   "mimetype": "text/x-python",
   "name": "python",
   "nbconvert_exporter": "python",
   "pygments_lexer": "ipython3",
   "version": "3.13.1"
  }
 },
 "nbformat": 4,
 "nbformat_minor": 5
}
