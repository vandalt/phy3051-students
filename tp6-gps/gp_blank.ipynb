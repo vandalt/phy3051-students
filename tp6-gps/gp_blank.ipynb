{
 "cells": [
  {
   "cell_type": "markdown",
   "id": "c1320595",
   "metadata": {},
   "source": [
    "# Processus gaussiens\n",
    "\n",
    "## JAX\n",
    "\n",
    "La librairie que nous allons utiliser pour les GPs, [tinygp](https://tinygp.readthedocs.io/en/stable/index.html), utilise [JAX](https://docs.jax.dev/en/latest/index.html).\n",
    "JAX est une librairie pour l'apprentissage machine, un peu comme PyTorch et Tensorflow, qui permet de tirer avantage des GPUs et TPUs.\n",
    "Nous couvriront ce type de librairies et leurs avantages lors des cours sur les réseaux neuronaux.\n",
    "En plus du calcul sur GPU, voici quelques autres avantages de JAX:\n",
    "\n",
    "- Interface similaire à Numpy (`jax.numpy`)\n",
    "- Calcul de gradients (`jax.grad`)\n",
    "- Compilation _just in time_ (JIT) (`jax.jit`)\n",
    "- Vectorisation automatique (`jax.vmap`)\n",
    "\n",
    "Bien que JAX permette d'utiliser les GPUs, elle fonctionne aussi sur les CPUs.\n",
    "Vous pouvez donc installer JAX sur votre ordinateur en suivant les [instructions d'installation](https://docs.jax.dev/en/latest/installation.html#).\n",
    "\n",
    "Pour offrir les fonctionnalités décrites ci-dessus, JAX fonctionne différement de Numpy à quelques égards.\n",
    "Ces différences sont présentées dans le tutoriel [🔪 JAX - The Sharp Bits 🔪](https://docs.jax.dev/en/latest/notebooks/Common_Gotchas_in_JAX.html), mais voici les grandes lignes:\n",
    "\n",
    "- JAX s'attend à des fonctions « pures », c'est à dire qui retournent toujours la même valeur pour les mêmes entrées et n'utilisent pas le contexte \"global\"\n",
    "- Les tableaux ne peuvent être modifiés directement. `a[0] = 1.0` devient `a = a.at[0].set(1.0)` ([documentation pour la propriété `at`](https://docs.jax.dev/en/latest/_autosummary/jax.numpy.ndarray.at.html#jax.numpy.ndarray.at))\n",
    "- Les nombre aléatoires sont générés différemment\n",
    "- La précision par défaut de JAX pour les nombres réels est 32bit (_single_). Pour utiliser la précision 64bit (_double_), il faut ajouter `jax.config.update(\"jax_enable_x64\", True)` au début du code.\n",
    "\n",
    "### Définition d'un tableau et modification\n",
    "\n",
    "Commençons par définir un tableau avec JAX et vérifier que la précision _double_ est bien activée."
   ]
  },
  {
   "cell_type": "code",
   "execution_count": null,
   "id": "3fa8ab6a",
   "metadata": {},
   "outputs": [],
   "source": [
    "import jax\n",
    "import jax.numpy as jnp\n",
    "\n",
    "jax.config.update(\"jax_enable_x64\", True)\n",
    "a = jnp.arange(5.0)\n",
    "print(\"Test\")\n",
    "print(a)\n",
    "print(a.dtype)"
   ]
  },
  {
   "cell_type": "markdown",
   "id": "142da2b5",
   "metadata": {},
   "source": [
    "On peut voir que modifier le tableau en place donne une erreur."
   ]
  },
  {
   "cell_type": "code",
   "execution_count": null,
   "id": "a689a791",
   "metadata": {},
   "outputs": [],
   "source": [
    "try:\n",
    "    a[0] = 1\n",
    "except TypeError as e:\n",
    "    print(\"L'erreur suivante s'est produite!\\n\")\n",
    "    print(e)"
   ]
  },
  {
   "cell_type": "markdown",
   "id": "654fa12f",
   "metadata": {},
   "source": [
    "Mais que la propriété `at` fonctionne tel qu'attendu:"
   ]
  },
  {
   "cell_type": "code",
   "execution_count": null,
   "id": "d3017a1a",
   "metadata": {},
   "outputs": [],
   "source": [
    "a = a.at[0].set(100.0)\n",
    "a"
   ]
  },
  {
   "cell_type": "markdown",
   "id": "792de6eb",
   "metadata": {},
   "source": [
    "### Fonction et différentiation"
   ]
  },
  {
   "cell_type": "markdown",
   "id": "b971ee40",
   "metadata": {},
   "source": [
    "Comme avec Numpy, on peut définir une fonction et l'afficher dans un graphique"
   ]
  },
  {
   "cell_type": "code",
   "execution_count": null,
   "id": "dd61c833",
   "metadata": {},
   "outputs": [],
   "source": [
    "import matplotlib.pyplot as plt\n",
    "\n",
    "def sinus(x, p):\n",
    "    A, P, phi, off = p\n",
    "    return A * jnp.sin(2 * jnp.pi * x / P - phi) + off\n",
    "\n",
    "\n",
    "x = jnp.linspace(0, 5, num=1000)\n",
    "params = [1.0, 1.0, 0.0, 0.0]\n",
    "y = sinus(x, params)\n",
    "\n",
    "plt.figure()\n",
    "plt.plot(x, y)\n",
    "plt.xlabel(\"x\")\n",
    "plt.ylabel(\"y\")\n",
    "plt.show()"
   ]
  },
  {
   "cell_type": "markdown",
   "id": "fc8b33c9",
   "metadata": {},
   "source": [
    "Mais comme la fonction utilise `jax.numpy`, on peut obtenir un gradient avec `jax.grad`.\n",
    "La fonction `jax.grad` accepte seulement les fonctions qui retournent un scalaire.\n",
    "C'est ici que la fonction `jax.vmap` devient utile: elle permet d'appliquer notre fonction de gradient sur plusieurs `x`.\n"
   ]
  },
  {
   "cell_type": "code",
   "execution_count": null,
   "id": "d49e2868",
   "metadata": {},
   "outputs": [],
   "source": [
    "sinus_grad = jax.grad(sinus)  # grad se fait sur le 1er argument par défaut\n",
    "# on doit dire à vmap sur quels arguments opérer:\n",
    "# - axe 0 du premier argument\n",
    "# - aucun axe du 2e argument\n",
    "yp = jax.vmap(sinus_grad, in_axes=(0, None))(x, params)\n",
    "\n",
    "plt.figure(figsize=(10, 6))\n",
    "plt.plot(x, y, label=\"f(x)\")\n",
    "plt.plot(x, yp,label=\"f'(x)\")\n",
    "plt.xlabel(\"x\")\n",
    "plt.ylabel(\"y\")\n",
    "plt.legend()\n",
    "plt.show()"
   ]
  },
  {
   "cell_type": "markdown",
   "id": "d0c2b136",
   "metadata": {},
   "source": [
    "### Compilation _just in time_ (JIT)\n",
    "\n",
    "On peut également créer une version compilé de notre fonction avec `jax.jit`.\n",
    "Lors de la première évaluation, la fonction sera compilée et sera ainsi plus rapide les fois suivantes.\n",
    "On peut utiliser `%timeit` pour tester l'accélération.\n",
    "(Ici, `block_until_read()` s'assure seulement que JAX n'accélère pas l'évaluation avec le _dispatch_ asynchrone)."
   ]
  },
  {
   "cell_type": "code",
   "execution_count": null,
   "id": "69bb4813",
   "metadata": {},
   "outputs": [],
   "source": [
    "xtest = jnp.linspace(0.0, 10.0, num=1_000_00)\n",
    "%timeit sinus(xtest, params).block_until_ready()"
   ]
  },
  {
   "cell_type": "markdown",
   "id": "c381e129",
   "metadata": {},
   "source": [
    "Si on utilise `jit`, on peut accélérer la fonction."
   ]
  },
  {
   "cell_type": "code",
   "execution_count": null,
   "id": "a328de47",
   "metadata": {},
   "outputs": [],
   "source": [
    "sinus_jit = jax.jit(sinus)\n",
    "_ = sinus_jit(x, params)  # On compile en exécutant une première fois\n",
    "%timeit sinus_jit(xtest, params).block_until_ready()  # On teste la version compilée"
   ]
  },
  {
   "cell_type": "markdown",
   "id": "acdccca7",
   "metadata": {},
   "source": [
    "Dans ce cas-ci, la fonction est plutôt simple et le temps gagné n'est pas énorme.\n",
    "Par contre, plus nos modèles sont complexes, plus la compilation JIT sera utile.\n",
    "\n",
    "`jax.jit` peut aussi être utilisée comme décorateur sur notre fonction, par exemple"
   ]
  },
  {
   "cell_type": "code",
   "execution_count": null,
   "id": "4c59634a",
   "metadata": {},
   "outputs": [],
   "source": [
    "@jax.jit\n",
    "def sinus_jit_deco(x, p):\n",
    "    A, P, phi, off = p\n",
    "    return A * jnp.sin(2 * jnp.pi * x / P - phi) + off\n",
    "\n",
    "_ = sinus_jit_deco(x, params)  # On compile\n",
    "%timeit sinus_jit_deco(xtest, params).block_until_ready()  # On teste la version compilée"
   ]
  },
  {
   "cell_type": "markdown",
   "id": "9cdc122c",
   "metadata": {},
   "source": [
    "Ces deux méthodes sont équivalentes.\n",
    "\n",
    "### Nombres aléatoires\n",
    "\n",
    "Avec JAX, les nombres aléatoires sont générés un peu différemment d'avec Numpy.\n",
    "Pour opérer sur des fonctions « pures », il faut que l'état du générateur aléatoire soit passé en argument aux différentes fonctions.\n",
    "On fait ceci à l'aide d'une « clé », qui peut être divisée autant de fois que nécessaire pour générer de nouveaux nombres."
   ]
  },
  {
   "cell_type": "code",
   "execution_count": null,
   "id": "e7a1acb5",
   "metadata": {
    "lines_to_next_cell": 0
   },
   "outputs": [],
   "source": [
    "key = jax.random.key(3051)\n",
    "print(key)"
   ]
  },
  {
   "cell_type": "markdown",
   "id": "8c3ed8e5",
   "metadata": {},
   "source": [
    "Une clé donnée génère toujours la même valeur"
   ]
  },
  {
   "cell_type": "code",
   "execution_count": null,
   "id": "951be09a",
   "metadata": {},
   "outputs": [],
   "source": [
    "print(jax.random.normal(key))\n",
    "print(jax.random.normal(key))"
   ]
  },
  {
   "cell_type": "markdown",
   "id": "20911f57",
   "metadata": {},
   "source": [
    "Pour obtenir de nouveaux nombres, il faut diviser la clé en une nouvelle `key` et une `subkey`.\n",
    "On utilise la `subkey` pour générer des nombres aléatoires.\n",
    "La nouvelle `key` sera re-divisée plus loin dans notre code au besoin."
   ]
  },
  {
   "cell_type": "code",
   "execution_count": null,
   "id": "a03c091e",
   "metadata": {},
   "outputs": [],
   "source": [
    "for _ in range(4):\n",
    "    key, subkey = jax.random.split(key)\n",
    "    print(jax.random.normal(subkey))"
   ]
  },
  {
   "cell_type": "markdown",
   "id": "1b092937-a7fe-4103-a8c4-42fa5ae896de",
   "metadata": {},
   "source": [
    "**Exercice: Générez des nombres tirées d'une distribution normale 2D centrée à [0, 5] avec une une matrice la matrice de covariance diagonale ci-dessous. Affichez les échantillons sur un histogramme 2D (`plt.hist2d` ou `corner.corner`).**\n",
    "\n",
    "$$\n",
    "C = \\begin{bmatrix}1 & 0\\\\ 0 & 2\\end{bmatrix}\n",
    "$$\n",
    "\n",
    "(La distribution normale multidimensionnelle est `multivariate_normal` dans NumPy et JAX)."
   ]
  },
  {
   "cell_type": "code",
   "execution_count": null,
   "id": "fa8e1dde-9f70-4cd3-a503-bd8adb70f924",
   "metadata": {},
   "outputs": [],
   "source": [
    "# TODO: Distribution"
   ]
  },
  {
   "cell_type": "markdown",
   "id": "1712bebb",
   "metadata": {},
   "source": [
    "Voilà! La section ci-dessus couvrait les principales choses à savoir avant d'utiliser JAX.\n",
    "\n",
    "## Processus gaussiens (implémentation)\n",
    "\n",
    "Tel que vu en classe, les processus gaussiens (GPs) sont mathématiquement assez simple.\n",
    "Il est donc possible de les implémenter avec `numpy` ou `jax.numpy`.\n",
    "\n",
    "Les équations dont nous avons besoin sont données aux diapositives 12, 15 et 23.\n",
    "\n",
    "### Fonction de covariance\n",
    "\n",
    "Commençons par définir une fonction de covariance (_kernel_) exponentielle carrée.\n",
    "\n",
    "$$\n",
    "k_{\\mathrm{SE}}(x_i, x_j, \\{\\lambda\\}) = \\exp{\\left(-\\frac{1}{2\\lambda^2}\\left|x_i - x_j\\right|^2\\right)}\n",
    "$$\n",
    "\n",
    "**Implémentez l'équation ci-dessus et affichez sont résultat pour $x_i$ entre -5 et 5. Gardez $x_j$ fixe à 0.**\n",
    "**Utilisez une échelle $\\lambda = 1$.**"
   ]
  },
  {
   "cell_type": "code",
   "execution_count": null,
   "id": "c137c389",
   "metadata": {},
   "outputs": [],
   "source": [
    "# TODO: Kernel"
   ]
  },
  {
   "cell_type": "markdown",
   "id": "4083c065",
   "metadata": {},
   "source": [
    "La fonction nous indique que les points étant à près les uns des autres sont très corrélés, mais qu'au delà de $|x_i - x_j| > 4$, la corrélation est presque 0.\n",
    "\n",
    "On peut visualiser cette corrélation d'une autre manière, en utilisant deux vecteurs et en regardant la distance point-par-point.\n",
    "\n",
    "**Utilisez 100 valeurs de $x$ entre 0 et 10 dans un tableau `xi` et calculez la matrice de covariance. Vous pouvez utiliser `xi[:, None]` et `xi[None, :]` pour automatiquement ajouter les axes dans le calcul du kernel ou bien utiliser `meshgrid` pour couvrir toutes les combinaisons de points dans `xi`. Enregistrez votre matrice de covariance dans une variable `kmat`.**"
   ]
  },
  {
   "cell_type": "code",
   "execution_count": null,
   "id": "31e504d9",
   "metadata": {
    "lines_to_next_cell": 2
   },
   "outputs": [],
   "source": [
    "# TODO: Afficher la matrice"
   ]
  },
  {
   "cell_type": "markdown",
   "id": "fbb81645",
   "metadata": {},
   "source": [
    "### Distribution a priori\n",
    "\n",
    "Comme un GP est une distribution gaussienne sur les fonctions, on peut utiliser la matrice de covariance `kmat` pour générer des évaluations $\\mathbf{y} = f(\\mathbf{x})$ tirées de cette distribution.\n",
    "Notre fonction moyenne dans ce cas-ci sera simplement une constante autour de 0.\n",
    "\n",
    "**Utilisez `jax.random.multivariate_normal()` pour générer 5 échantillons d'une distribution avec une moyenne de 0 et une covariance `kmat`.**\n",
    "**Utilisez l'argument `method=\"svd\"` pour éviter les erreurs numériques.**"
   ]
  },
  {
   "cell_type": "code",
   "execution_count": null,
   "id": "cda06fc3",
   "metadata": {},
   "outputs": [],
   "source": []
  },
  {
   "cell_type": "markdown",
   "id": "570467a7",
   "metadata": {},
   "source": [
    "La distribution normale à 100 dimension nous retourne donc 5 vecteurs $y$ évalués aux valeurs de notre fonction.\n",
    "On peut les afficher sur un même graphique pour voir quel type de fonctions le GP retourne."
   ]
  },
  {
   "cell_type": "code",
   "execution_count": null,
   "id": "c053e955",
   "metadata": {},
   "outputs": [],
   "source": [
    "plt.plot(xi, gp_prior_samples.T)\n",
    "plt.xlabel(\"x\")\n",
    "plt.ylabel(\"y\")\n",
    "plt.title(\"Échantillons a priori du GP\")\n",
    "plt.show()"
   ]
  },
  {
   "cell_type": "markdown",
   "id": "7b8a9e89",
   "metadata": {},
   "source": [
    "Ces échantillons sont tirées de la distribution **a priori** du GP.\n",
    "Ils ne sont donc conditionnés sur aucunes données, ce qui les rend très peu utiles en pratique.\n",
    "\n",
    "### Distribution a posteriori (conditionnelle)\n",
    "\n",
    "On peut simuler quelques points de données et utiliser les équations de la page 23 pour obtenir la distribution **a posterori** du GP conditionnée sur ces observations."
   ]
  },
  {
   "cell_type": "code",
   "execution_count": null,
   "id": "e8959770",
   "metadata": {},
   "outputs": [],
   "source": [
    "key, subkey1, subkey2 = jax.random.split(key, num=3)\n",
    "x = jax.random.uniform(subkey1, shape=5, minval=0.5, maxval=9.0)\n",
    "y = jax.random.normal(subkey2, shape=x.shape)\n",
    "xt = jnp.linspace(0, 10, num=100)\n",
    "\n",
    "plt.plot(x, y, \"ko\", label=\"Observations\")\n",
    "plt.xlabel(\"x\")\n",
    "plt.ylabel(\"y\")\n",
    "plt.title(\"Observations simulées\")\n",
    "plt.legend()\n",
    "plt.show()"
   ]
  },
  {
   "cell_type": "markdown",
   "id": "69998a4d",
   "metadata": {},
   "source": [
    "Maintenant que nous avons des observations, nous pouvons générer des échantillons de la distribution a posteriori (conditionnelle) du GP.\n",
    "Dans ces équations $x$ et $y$ dénotent les vecteurs d'observations.\n",
    "$x_\\star$ est le vecteur points où l'on veut prédire $y_\\star$ (`xt` dans le code).\n",
    "La distribution conditionnelle est donnée à la page 23 de diapositives. Il faut d'abord évaluer trois matrices de covariance\n",
    "\n",
    "$$\n",
    "K = k(x, x), K_\\star = k(x,x_\\star), K_{\\star\\star} = k(x_\\star, x_\\star).\n",
    "$$\n",
    "\n",
    "La distribution conditionnelle d'un GP est aussi une distribution gaussienne multidimensionnelle, mais sa moyenne et sa covariance sont différentes de la distribution a priori:\n",
    "\n",
    "$$\n",
    "p(y_{\\star}|y) = \\mathcal{N}(f_\\star, C_\\star)\n",
    "$$\n",
    "\n",
    "où la moyenne est\n",
    "\n",
    "$$\n",
    "f_\\star = m_\\star + K_{\\star}^T K^{-1} (y - m)\n",
    "$$\n",
    "\n",
    "et la covariance\n",
    "\n",
    "$$\n",
    "C_\\star = K_{\\star\\star} + K_{\\star}^T K^{-1} K_{\\star}.\n",
    "$$\n",
    "\n",
    "- **Utilisez ces équations pour obtenir la distribution conditionnelle du GP**. Il s'agit d'une distribution normale à plusieurs dimensions. Le nombre de dimension est le nombre de points dans ce cas-ci. Les dimensions seront inférées automatiquement par Numpy ou JAX lorsque vous passez le vecteur moyenne $f_{\\star}$ et la matrice de covariance $C_{\\star}$ en argument.\n",
    "- **Une fois cette distribution obtenue, affichez la moyenne $f_{\\star}$ superposée aux données.**\n",
    "- **Affichez également un intervalle `fill_between` autour de la moyenne en utilisant l'écart type dérivé de $C_{\\star}$** (indice: la variance se trouve sur la diagonale de $C_{\\star}$).\n",
    "- **Affichez aussi 5 échantillons tirés de la distribution a posteriori du GP**\n",
    "\n",
    "<details>\n",
    "    \n",
    "<summary>Quelques indices (cliquer pour afficher)</summary>\n",
    "\n",
    "1. Utilisez `kernel(x[:, None], x[None, :])` pour facilement vectoriser le calcul de la matrice de covariance\n",
    "2. Les fonctions `jnp.linalg`, `jnp.diag` et l'opération de multiplication matricielle `@` seront utiles.\n",
    "3. Pour générer les échantillons, le code du prior peut être réutilisé, mais il faut changer la moyenne et la covariance. N'oubliez pas de re-diviser la clé!\n",
    "</details>"
   ]
  },
  {
   "cell_type": "code",
   "execution_count": null,
   "id": "5b4e6015",
   "metadata": {},
   "outputs": [],
   "source": [
    "# TODO: Prédiction GP"
   ]
  },
  {
   "cell_type": "code",
   "execution_count": null,
   "id": "b567d20a",
   "metadata": {},
   "outputs": [],
   "source": [
    "# TODO: Graphique GP"
   ]
  },
  {
   "cell_type": "markdown",
   "id": "bc68e5f3",
   "metadata": {},
   "source": [
    "## Exploration\n",
    "\n",
    "Si vous terminez d'avance, voici quelques suggestions pour explorer les GPs un peu plus en détail.\n",
    "Rien de ceci n'est obligatoire.\n",
    "\n",
    "Quelques suggestions:\n",
    "\n",
    "- Tentez de modifier l'hyperparamètre $\\lambda$ comment cela affecte-t-il vos résultats?\n",
    "- Testez d'autres fonction de covariances\n",
    "- Ajoutez des barres d'erreur aux observations. Ajoutez la variance correspondante à la diagonale de votre matrice $K = k(x,x)$.\n",
    "- Implémentez l'équation du _likelihood_ (diapositive 28) pour le GP et tentez d'optimiser l'hyperparamètre pour ce problème simple.\n",
    "- Comment se comporte le temps de calcul du GP en ajoutant des observations?\n",
    "- Tentez d'implémenter l'algorithme donné à la diapositive 33. La factorisation de Cholesky est implémentée dans [NumPy](https://numpy.org/doc/2.2/reference/generated/numpy.linalg.cholesky.html) et [JAX](https://docs.jax.dev/en/latest/_autosummary/jax.numpy.linalg.cholesky.html).\n",
    "- Commencez à explorer la documentation de [tinygp](https://tinygp.readthedocs.io/en/stable/index.html).\n",
    "\n",
    "**C'est possible que vous obteniez des instabilités numériques aux 4 premières questions. Ne perdez pas trop de temps là dessus si c'est le cas. C'est entre autre pourquoi nous utiliserons tinygp lors du prochain cours**."
   ]
  }
 ],
 "metadata": {
  "jupytext": {
   "cell_metadata_filter": "-all",
   "main_language": "python",
   "notebook_metadata_filter": "-all"
  },
  "kernelspec": {
   "display_name": "phy3051",
   "language": "python",
   "name": "phy3051"
  },
  "language_info": {
   "codemirror_mode": {
    "name": "ipython",
    "version": 3
   },
   "file_extension": ".py",
   "mimetype": "text/x-python",
   "name": "python",
   "nbconvert_exporter": "python",
   "pygments_lexer": "ipython3",
   "version": "3.13.1"
  }
 },
 "nbformat": 4,
 "nbformat_minor": 5
}
