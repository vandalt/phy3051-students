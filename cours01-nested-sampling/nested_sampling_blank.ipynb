{
 "cells": [
  {
   "cell_type": "markdown",
   "id": "9833b736",
   "metadata": {},
   "source": [
    "# Nested sampling\n",
    "Nous avons vu en classe la procédure étape par étape du Nested sampling.\n",
    "Le but de ce notebook est d'implémenter l'algorithme nous-même.\n",
    "En pratique, pour le reste du cours, nous utiliserons dynesty.\n",
    "On peut cependant acquérir une bonne intuition de comment le nested sampling fonction en codant une version simple.\n",
    "\n",
    "L'algorithme est donné dans les diapos vues en classe et discuté en plus grand détail dans l'article de Skilling (2006) disponible sur StudiUM.\n",
    "\n",
    "## Définition d'un modèle 1D simple\n",
    "\n",
    "Pour commencer, nous allons tester notre implémentation sur une vraisemblance normale 1D avec une moyenne $\\mu = 0$ et $\\sigma = 1$, avec une distribution à priori entre -10 et 10.\n",
    "\n",
    "### Transformation du prior\n",
    "\n",
    "Pour implémenter le prior, il faut une \"transformation du prior\" (CDF inverse), comme nous avons vu en classe.\n",
    "Cette fonction doit transformer des échantillons d'un intervalle unitaire vers la distribution souhaitée, soit $\\mathcal{U}(-5, 5)$ dans ce cas-ci.\n",
    "\n",
    "**Pour cette partie-ci, nous allons:**\n",
    "\n",
    "- **Coder la transformation du prior dans la fonction `prior_transform()`.**\n",
    "- **Tester notre transformation avec un échantillonnage aléatoire** (vérifiez que l'histogramme donne la distribution uniforme attendue entre -5 et 5."
   ]
  },
  {
   "cell_type": "code",
   "execution_count": null,
   "id": "3793c216",
   "metadata": {},
   "outputs": [],
   "source": [
    "from typing import Callable\n",
    "\n",
    "import matplotlib.pyplot as plt\n",
    "import numpy as np\n",
    "import tqdm\n",
    "from matplotlib import rcParams\n",
    "from numpy.typing import NDArray\n",
    "\n",
    "plt.style.use(\"tableau-colorblind10\")\n",
    "\n",
    "rcParams[\"font.size\"] = 14\n",
    "\n",
    "\n",
    "\n",
    "# TODO: prior transform et histogrammes"
   ]
  },
  {
   "cell_type": "markdown",
   "id": "594f9182",
   "metadata": {
    "lines_to_next_cell": 2
   },
   "source": [
    "### Vraisemblance\n",
    "Pour la vraisemblance, on utilise une distribution $p(D|\\theta)$ gaussienne avec une seule mesure à $\\theta_0 = 0$.\n",
    "Implémentez le log de la vraisemblance.\n",
    "Utilisez un écart type de $\\sigma = 1$.\n",
    "\n",
    "Comme la vraisemblance est facile à calculer. On peut d'abord l'afficher sur une grille."
   ]
  },
  {
   "cell_type": "code",
   "execution_count": null,
   "id": "0cf86929",
   "metadata": {},
   "outputs": [],
   "source": [
    "# TODO: Log-likelihood et évaluation sur grille"
   ]
  },
  {
   "cell_type": "markdown",
   "id": "dbbe0c0e",
   "metadata": {
    "lines_to_next_cell": 2
   },
   "source": [
    "## Algorithme Nested Sampling\n",
    "\n",
    "On peut maintenant implémenter le nested sampling.\n",
    "Voici quelques suggestions ci-dessous.\n",
    "\n",
    "- Pour commencer, utilisez un nombre fixe d'itérations (`nsteps`) au lieu d'un critère de convergence.\n",
    "- Définissez une fonction `nested_sampling()` avec la signature suggérée ci-dessous. Les arguments sont:\n",
    "  - `loglike_fn`: fonction log-vraisemblance, qui prend un argument `p` (vecteur du paramètre theta avec un seul élément).\n",
    "  - `pt_fn`: fonction de _prior transform_\n",
    "  - `ndim`: nombre de dimension du vecteur de paramètre (1, dans ce premier exemple)\n",
    "  - `nlive`: nombre de live points. Commencez par quelques centaines. 500 fonctionne bien.\n",
    "  - `nsteps`: nombre d'itérations maximum.\n",
    "  - N'hésitez pas à coder une première version de votre algorithme hors de la fonction, pour avoir accès facilement aux variable et \"débugger\".\n",
    "- Pour la génération de nouveaux \"live points\", vous pouvez utiliser le _rejection sampling_: générer des points sur tout le prior et accepter le premier point qui satisfait $L(\\theta)>L_{\\text{min}}$.\n",
    "  - Ce n'est pas une manière efficace de générer des points. Je vous invite à tester des alternatives (e.g. MCMC à partir d'un _live point_ tiré au hasard, échantillonnage uniforme dans un ellipsoide) si le temps vous le permet."
   ]
  },
  {
   "cell_type": "code",
   "execution_count": null,
   "id": "924b156d",
   "metadata": {},
   "outputs": [],
   "source": [
    "# TODO: Nested sampling"
   ]
  },
  {
   "cell_type": "markdown",
   "id": "1cef20db",
   "metadata": {},
   "source": [
    "Vous pouvez maintenant afficher différentes quantités en fonction du volume du prior (ou de son logarithme):\n",
    "\n",
    "- L'évidence\n",
    "- La (log-)vraisemblance\n",
    "- Le poid des échantillons\n",
    "- Un histogramme pondéré de la distribution à posteriori"
   ]
  },
  {
   "cell_type": "code",
   "execution_count": null,
   "id": "33e69c60",
   "metadata": {},
   "outputs": [],
   "source": [
    "# TOOD: Graphiques"
   ]
  },
  {
   "cell_type": "markdown",
   "id": "5305f650-a254-4f4b-aaa2-35a0b59757ff",
   "metadata": {},
   "source": [
    "## Exercices bonus\n",
    "Si vous voulez explorer ce code un peu plus, voici quelques options. Elles ne seront pas évaluées, ni utilisées dans les devoir, mais elles sont intéressantes pour approfondir votre compréhension:\n",
    "\n",
    "- Implémentez un échantillonnage par marche aléatoire\n",
    "- Testez un modèle à deux paramètre (régression linéaire) avec ce code, comparez avec dynesty.\n",
    "\n",
    "### MCMC\n",
    "\n",
    "Dans ce cas-ci, notre MCMC sert à explorer la distribution a priori, et non la distribution a posteriori.\n",
    "\n",
    "- Il faut donc utiliser une fonction `log_prior` pour explorer l'espace-paramètre. Définissez d'abord cette fonction.\n",
    "- Il faut aussi rejeter les échantillons avec L < Lmin, en plus de l'acceptance MCMC habituelle.\n",
    "- Pour l'échelle du MCMC, vous pouvez utiliser une distribution de proposition avec la taille du MCMC.\n",
    "- Itérez un certain nombre d'itération (ex.: 1000) avant de prposer de nouveaux échantillons."
   ]
  },
  {
   "cell_type": "code",
   "execution_count": null,
   "id": "ba2b4274-9ea7-4092-9fba-baec6c1a25d0",
   "metadata": {},
   "outputs": [],
   "source": [
    "# TODO: Définir une proposition MCMC et utiliser dans le nested sampling."
   ]
  },
  {
   "cell_type": "markdown",
   "id": "1074d424-af01-43aa-8ec5-b0a9b35316d4",
   "metadata": {
    "lines_to_next_cell": 1
   },
   "source": [
    "### Régression linéaire\n",
    "\n",
    "On simule d'abord les données, on définit notre modèle probabiliste, et on lance ensuite le nested sampling."
   ]
  },
  {
   "cell_type": "code",
   "execution_count": null,
   "id": "3e54e514-3f57-454e-a0de-2ad6a675dc47",
   "metadata": {},
   "outputs": [],
   "source": [
    "m_true = -0.9594\n",
    "b_true = 4.294\n",
    "\n",
    "N = 50\n",
    "x = np.sort(10 * np.random.rand(N))\n",
    "yerr = 0.1 + 0.5 * np.random.rand(N)\n",
    "y = m_true * x + b_true\n",
    "y += yerr * np.random.randn(N)\n",
    "\n",
    "plt.errorbar(x, y, yerr=yerr, fmt=\".k\", capsize=0)\n",
    "x0 = np.linspace(0, 10, 500)\n",
    "plt.plot(x0, m_true * x0 + b_true, \"k\", alpha=0.3, lw=3)\n",
    "plt.xlim(0, 10)\n",
    "plt.xlabel(\"x\")\n",
    "plt.ylabel(\"y\")\n",
    "plt.show()"
   ]
  },
  {
   "cell_type": "code",
   "execution_count": null,
   "id": "5c40765b-21df-4965-b823-e44804f6e48d",
   "metadata": {},
   "outputs": [],
   "source": [
    "# TODO: Prior, prior transform et likelihood."
   ]
  },
  {
   "cell_type": "code",
   "execution_count": null,
   "id": "df3fea2b-b6fb-4a76-b901-72f004cd97ac",
   "metadata": {},
   "outputs": [],
   "source": [
    "# TODO: Nested sampling"
   ]
  }
 ],
 "metadata": {
  "jupytext": {
   "cell_metadata_filter": "-all",
   "main_language": "python",
   "notebook_metadata_filter": "-all"
  },
  "kernelspec": {
   "display_name": "Python 3 (ipykernel)",
   "language": "python",
   "name": "python3"
  },
  "language_info": {
   "codemirror_mode": {
    "name": "ipython",
    "version": 3
   },
   "file_extension": ".py",
   "mimetype": "text/x-python",
   "name": "python",
   "nbconvert_exporter": "python",
   "pygments_lexer": "ipython3",
   "version": "3.13.1"
  }
 },
 "nbformat": 4,
 "nbformat_minor": 5
}
