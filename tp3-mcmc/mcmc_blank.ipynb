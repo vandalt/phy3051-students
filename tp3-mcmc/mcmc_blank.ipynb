{
 "cells": [
  {
   "cell_type": "markdown",
   "id": "99cd9c5b-16c3-44ab-94f0-0d3807bf86cb",
   "metadata": {},
   "source": [
    "# Implémentation d'un _Markov Chain Monte Carlo_ (MCMC) avec l'algorithme de Metropolis.\n",
    "\n",
    "Nous allons suivre les étapes décrite dans l'excellent article d'introduction au MCMC de David W. Hogg et Daniel Foreman-Mackey, disponible [ici](https://ui.adsabs.harvard.edu/abs/2018ApJS..236...11H/abstract).\n",
    "La section 3 sera particulièrement utile pour cet exemple.\n",
    "\n",
    "Vous pouvez installer `tqdm` si vous souhaitez afficher un indicateur de progrès dans la boucle de MCMC.\n",
    "Pour l'installation, la commande `python -m pip install tqdm` devrait fonctionner.\n",
    "Pour l'utilisation, il suffit de placer votre générateur (`range()`) dans la fonction `tqdm.tqdm()`:\n",
    "\n",
    "```python\n",
    "for i in tqdm.tqdm(range(10)):\n",
    "    # do something\n",
    "    pass\n",
    "```"
   ]
  },
  {
   "cell_type": "code",
   "execution_count": null,
   "id": "68a2ce9a",
   "metadata": {
    "lines_to_next_cell": 1
   },
   "outputs": [],
   "source": [
    "from collections.abc import Callable\n",
    "import numpy as np\n",
    "import matplotlib.pyplot as plt\n",
    "import tqdm\n",
    "\n",
    "rng = np.random.default_rng()"
   ]
  },
  {
   "cell_type": "markdown",
   "id": "aba20235",
   "metadata": {},
   "source": [
    "## Fonction de densité unidimensionnelle (Problèmes 2 et 3 de l'article)\n",
    "### Densité Gaussienne\n",
    "\n",
    "Pour ce premier exercice, nous allons implémenter l'algorithme de Metropolis et l'appliquer à une distribution normale unidimensionnelle.\n",
    "\n",
    "Utilisez les informations suivantes:\n",
    "\n",
    "- La fonction de densité $p(\\theta)$ est une gaussienne à une dimension avec moyenne de $\\mu=2$ et une variance $\\sigma^2=2$.\n",
    "- La distribution de proposition $q(\\theta'|\\theta)$ est une gaussienne pour $\\theta'$ avec une moyenne $\\mu=\\theta$ et un écart type $\\sigma = 1$.\n",
    "- Le point initial du MCMC est $\\theta = 0$.\n",
    "- Le MCMC doit performer $10^4$ itérations.\n",
    "\n",
    "L'équation de la distribution normale est\n",
    "\n",
    "$$\n",
    "p(\\theta) = \\frac{1}{\\sqrt{2 \\pi \\sigma^2}} \\exp\\left[ -\\frac{(\\theta - \\mu)^2}{2 \\sigma^2}\\right].\n",
    "$$\n",
    "\n",
    "Or, pour éviter les erreurs numériques, on utilise son logarithme. **Codez directement une fonction pour $\\ln p(\\theta)$** (n'utilisez pas simplement `np.log` sur une gaussienne)."
   ]
  },
  {
   "cell_type": "code",
   "execution_count": null,
   "id": "42e8bec6",
   "metadata": {
    "lines_to_next_cell": 1
   },
   "outputs": [],
   "source": [
    "def log_gaussian(x, mean=2, var=2) -> float:\n",
    "    # TODO: ln d'une distribution normale 1D\n",
    "    pass"
   ]
  },
  {
   "cell_type": "markdown",
   "id": "24b71501-0eb7-4677-8d1e-e2a1539e4632",
   "metadata": {},
   "source": [
    "On peut maintenant implémenter l'algorithme de Metropolis.\n",
    "\n",
    "On souhaite que notre algorithme soit applicable à n'importe quelle densité de (log-)probabilité qui accepte un argument $\\theta$ scalaire. On peut donc donner `log_density` (notre fonction de probabilité ci-dessus) en argument à la fonction."
   ]
  },
  {
   "cell_type": "code",
   "execution_count": null,
   "id": "2cd0b42a-2698-4303-a230-176b542ae779",
   "metadata": {},
   "outputs": [],
   "source": [
    "def mcmc_metropolis(\n",
    "    log_density: Callable,\n",
    "    theta0: float,\n",
    "    nsteps: int,\n",
    "    q_scale: float = 1.0\n",
    ") -> np.ndarray[float]:\n",
    "    \"\"\"\n",
    "    - log_density: fonction de log-densité, accepte un argument theta\n",
    "    - theta0: valeur initiale de theta pour le MCMC\n",
    "    - nsteps: nombre de pas à faire dans le MCMC\n",
    "    - q_scale: écart type de la distribution de proposition.\n",
    "\n",
    "    La fonction retourne un tableau d'échantillons pour theta.\n",
    "    \"\"\"\n",
    "    pass"
   ]
  },
  {
   "cell_type": "markdown",
   "id": "68cdf298-8097-41c3-867d-cb899cf8b68c",
   "metadata": {},
   "source": [
    "Appliquez l'algorithme pour obtenir 10000 échantillons.\n",
    "\n",
    "Affichez ensuite un histogramme et comparez le avec la PDF analytique.\n",
    "Affichez ensuite l'évolution temporelle ($\\theta$ vs $k$) du MCMC."
   ]
  },
  {
   "cell_type": "code",
   "execution_count": null,
   "id": "04ce99e0-7a4a-40fe-aba3-b1a7d39b5697",
   "metadata": {},
   "outputs": [],
   "source": []
  },
  {
   "cell_type": "markdown",
   "id": "de213bc6-91e3-40d6-8970-840f09edcd99",
   "metadata": {},
   "source": [
    "### Impact de l'échelle de la distribution de proposition\n",
    "\n",
    "Testez différentes échelles pour la distribution de proposition (`q_scale`). Quel est l'impact sur l'échantillonnage? Testez `q_scale=10000` et `q_scale=1e-5`."
   ]
  },
  {
   "cell_type": "code",
   "execution_count": null,
   "id": "c1f3d631-0923-4d10-9392-aab728f6952d",
   "metadata": {},
   "outputs": [],
   "source": []
  },
  {
   "cell_type": "markdown",
   "id": "ebd4867f",
   "metadata": {},
   "source": [
    "### Distribution Uniforme\n",
    "\n",
    "Réutilisez votre MCMC pour échantillonner une distribution uniforme entre 3 et 7, soit $\\mathcal{U}(0, 7)$. Vous devrez encore une fois coder le log de cette densité de probabilité. Tout le reste dans votre `mcmc_metropolis` devrait fonctionner.\n",
    "\n",
    "Attention à la valeur d'initialisation!"
   ]
  },
  {
   "cell_type": "code",
   "execution_count": null,
   "id": "3c618ccb-0c8a-421c-b6b4-cc43d3dcfec9",
   "metadata": {},
   "outputs": [],
   "source": []
  },
  {
   "cell_type": "markdown",
   "id": "383a69d6-87e9-46be-b687-bf97972b2c75",
   "metadata": {
    "lines_to_next_cell": 2
   },
   "source": [
    "## Fonction de densité 2D\n",
    "\n",
    "Pour échantilloner un problème plus complexe, on peut généraliser le code ci-dessus à une distribution 2D.\n",
    "\n",
    "### Densité de probabilité\n",
    "\n",
    "Nous allons échantillonner une distribution $p(\\theta)$ où $\\theta$ contient deux dimensions. La distribution sera une distribution normale bidimensionnell avec une une moyenne\n",
    "\n",
    "$$\n",
    "\\mu = \\begin{bmatrix}0\\\\ 0\\end{bmatrix}\n",
    "$$\n",
    "\n",
    "et une matrice de covariance:\n",
    "\n",
    "$$\n",
    "V = \\begin{bmatrix}2.0 & 1.2\\\\1.2 & 2.0\\end{bmatrix}.\n",
    "$$\n",
    "\n",
    "L'équation d'une normale à N dimensions est donnée par:\n",
    "\n",
    "$$\n",
    "p(\\theta) = (2\\pi)^{-N/2} \\det{(V)}^{-1/2} \\exp{\\left(-\\frac{1}{2}(\\theta - \\mu)^T V^{-1} (\\theta - \\mu)\\right)}\n",
    "$$\n",
    "\n",
    "Vous pouvez coder le log de cette densité dans la cellule ci-dessous. Elle devrait accepter un paramètre `theta` contenant deux valeurs."
   ]
  },
  {
   "cell_type": "code",
   "execution_count": null,
   "id": "ad7372d1-444b-4ee0-982d-ee87c2ae2f14",
   "metadata": {},
   "outputs": [],
   "source": [
    "def log_gaussian_density_2d(x: np.ndarray[float]) -> float:\n",
    "    x = np.asarray(x)\n",
    "    ndim = 2\n",
    "    mu = np.array([0.0, 0.0])\n",
    "    cov = np.array([[2.0, 1.2], [1.2, 2.0]])\n",
    "    assert len(x) == ndim, (\n",
    "        f\"Wrong number of input dimensions. Got {len(x)}, expected {ndim}\"\n",
    "    )\n",
    "    # @ est une multiplication matricielle. Équivalent à np.dot ou np.matmul.\n",
    "    p = (\n",
    "        -0.5 * np.log(np.linalg.det(cov)) - 0.5 * ndim * (2 * np.pi)\n",
    "        - 0.5 * (x - mu) @ np.linalg.inv(cov) @ (x - mu)\n",
    "    )\n",
    "    return p"
   ]
  },
  {
   "cell_type": "markdown",
   "id": "f47efe43-b330-44dc-8a82-880dd334caba",
   "metadata": {},
   "source": [
    "Comme on connait la probabilité analytique et qu'elle se calcule dans un temps raisonnable, on peut l'afficher sur une grille pour s'assurer que la fonction le résultat attendu.\n",
    "Ce sera aussi utile pour vérifier que nos échantillons MCMC donnent la bonne distribution."
   ]
  },
  {
   "cell_type": "code",
   "execution_count": null,
   "id": "e0091300-fe79-47d1-ab61-b43abd6897c9",
   "metadata": {},
   "outputs": [],
   "source": []
  },
  {
   "cell_type": "markdown",
   "id": "94bfce2c-aa3d-42fc-b821-8570a325ec0d",
   "metadata": {
    "lines_to_next_cell": 2
   },
   "source": [
    "### Algorithme de Metropolis\n",
    "\n",
    "Pour l'algorithme de Metropolis, vous pouvez copier votre fonction précédente et la modifier pour qu'elle fonctionne avec un paramètre $\\theta$ 2D.\n",
    "\n",
    "Utilisez une distribution de proposition normale 2D avec une matrice de covariance identité. `rng.multivariate_normal` devrait fonctionner.\n",
    "\n",
    "Affichez ensuite l'histogramme pour chaque paramètre, puis l'évolution temporelle de chaque paramètre.\n",
    "\n",
    "Affichez également un nuage de point 2D ou un histogramme 2D."
   ]
  },
  {
   "cell_type": "code",
   "execution_count": null,
   "id": "b085203e-d90d-4b50-955e-c00c9acfe64f",
   "metadata": {},
   "outputs": [],
   "source": [
    "from typing import Union\n",
    "\n",
    "def mcmc_metropolis(\n",
    "    log_density: Callable,\n",
    "    theta0: np.ndarray[float],\n",
    "    nsteps: int,\n",
    "    q_var: Union[float, np.ndarray[float]] = 1.0\n",
    ") -> np.ndarray[float]:\n",
    "    \"\"\"\n",
    "    - log_density: fonction de log-densité, accepte un argument theta\n",
    "    - theta0: valeur initiale de theta pour le MCMC\n",
    "    - nsteps: nombre de pas à faire dans le MCMC\n",
    "    - q_var: variance ou covariance de la distribution de proposition. Peut-être:\n",
    "      - Un scalaire si tous les paramètres ont la même variance et que la covariance est 0.\n",
    "      - Un vecteur de la même taille que theta0 si la covariance est 0 mais que les variances sont différentes.\n",
    "      - Une matrice de covariance ndim x ndim.\n",
    "\n",
    "    La fonction retourne un tableau d'échantillons pour chaque paramètre\n",
    "    avec un format (nsteps, ndim).\n",
    "    \"\"\"\n",
    "    pass"
   ]
  },
  {
   "cell_type": "code",
   "execution_count": null,
   "id": "ba5602c1",
   "metadata": {},
   "outputs": [],
   "source": []
  },
  {
   "cell_type": "code",
   "execution_count": null,
   "id": "8f781105",
   "metadata": {},
   "outputs": [],
   "source": []
  },
  {
   "cell_type": "markdown",
   "id": "f6db5e4a-9a3f-498f-8598-e9d5150507bc",
   "metadata": {},
   "source": [
    "Pour afficher les histogrammes à plusieurs dimensions, un _corner plot_ est souvent utile. Il s'agit d'un graphique montrant la distribution 2D ainsi que les distributions marginales.\n",
    "\n",
    "Pour l'utiliser, il faudra installer `corner` (`python -m pip install corner`).\n",
    "\n",
    "Voici un lien vers la documentation: https://corner.readthedocs.io/en/latest/"
   ]
  },
  {
   "cell_type": "code",
   "execution_count": null,
   "id": "574b4594",
   "metadata": {},
   "outputs": [],
   "source": []
  },
  {
   "cell_type": "markdown",
   "id": "02d153fe",
   "metadata": {
    "lines_to_next_cell": 2
   },
   "source": [
    "## Bonus: MCMC appliqué à l'analyse de données\n",
    "\n",
    "Utilisez votre MCMC ci-dessus pour échantillonner la distribution à posteriori du devoir 1.\n",
    "Vous devrez copier votre code pour le modèle, les distributions et l'importation des données.\n",
    "\n",
    "Dans ce cas-ci, vous pouvez définir une distribution `log_posterior` en additionnant le log du prior et de la vraisemblance avec `np.log()`. Quelque chose comme:\n",
    "\n",
    "```python\n",
    "def log_posterior(param):\n",
    "    lp = np.log(prior(param))\n",
    "    if not np.isfinite(lp):\n",
    "        return - np.inf\n",
    "    return lp + np.log(likelihood(param, x, data, edata))\n",
    "```\n",
    "\n",
    "_Note: En général, il est préférable de coder toutes les distributions en log directement. Nous utilisons `np.log()` ici pour pouvoir réutiliser les fonctions du devoir 1, et car nous savons qu'il n'y aura pas de problèmes numériques dans ce cas spécifique_"
   ]
  }
 ],
 "metadata": {
  "jupytext": {
   "cell_metadata_filter": "-all",
   "main_language": "python"
  },
  "kernelspec": {
   "display_name": "Python 3 (ipykernel)",
   "language": "python",
   "name": "python3"
  },
  "language_info": {
   "codemirror_mode": {
    "name": "ipython",
    "version": 3
   },
   "file_extension": ".py",
   "mimetype": "text/x-python",
   "name": "python",
   "nbconvert_exporter": "python",
   "pygments_lexer": "ipython3",
   "version": "3.13.1"
  }
 },
 "nbformat": 4,
 "nbformat_minor": 5
}
