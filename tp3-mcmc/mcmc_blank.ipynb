{
 "cells": [
  {
   "cell_type": "markdown",
   "id": "98766bc5",
   "metadata": {},
   "source": [
    "# Implémentation d'un _Markov Chain Monte Carlo_ (MCMC) avec l'algorithme de Metropolis.\n",
    "\n",
    "Nous allons suivre les étapes décrite dans l'excellent article d'introduction au MCMC de David W. Hogg et Daniel Foreman-Mackey, disponible [ici](https://ui.adsabs.harvard.edu/abs/2018ApJS..236...11H/abstract).\n",
    "La section 3 sera particulièrement utile pour cet exemple."
   ]
  },
  {
   "cell_type": "code",
   "execution_count": null,
   "id": "01b6818d",
   "metadata": {
    "lines_to_next_cell": 1
   },
   "outputs": [],
   "source": [
    "from typing import Callable\n",
    "import numpy as np\n",
    "import matplotlib.pyplot as plt\n",
    "import tqdm\n",
    "\n",
    "rng = np.random.default_rng()"
   ]
  },
  {
   "cell_type": "markdown",
   "id": "a2dd2f16",
   "metadata": {},
   "source": [
    "## Fonction de densité unidimensionnelle (Problèmes 2 et 3 de l'article)\n",
    "### Densité Gaussienne\n",
    "\n",
    "Commençons par résoudre le problème no. 2 de l'article:\n",
    "\n",
    "- Fonction de densité $p(\\theta)$ gaussienne à une dimension avec moyenne de 2 et variance de 2.\n",
    "- Distribution de proposition $q(\\theta'|\\theta)$ gaussienne pour $\\theta'$ avec une moyenne $\\theta$ et variance de 1.\n",
    "- Point initial $\\theta = 0$.\n",
    "- Au moins $10^4$ itérations.\n",
    "\n",
    "N'oubliez pas d'utiliser le log de la densité $\\ln p(\\theta)$.\n",
    "\n",
    "Comme nous devrons réutiliser le code dans les prochaines sections, essayez de séparer votre fonction de log-densité et votre algorithme de Metropolis. Ce dernier pourrait avoir une signature telle que suggérée dans la cellule ci-dessous."
   ]
  },
  {
   "cell_type": "code",
   "execution_count": null,
   "id": "04ba5520",
   "metadata": {},
   "outputs": [],
   "source": [
    "def mcmc_metropolis(log_density: Callable, theta0: float, nsteps: int, q_scale: float = 1.0) -> np.ndarray[float]:\n",
    "    \"\"\"\n",
    "    - log_density: fonction de log-densité, accepte un argument theta\n",
    "    - theta0: valeur initiale de theta pour le MCMC\n",
    "    - nsteps: nombre de pas à faire dans le MCMC\n",
    "\n",
    "    La fonction retourne un tableaux d'échantillons pour theta.\n",
    "    \"\"\"\n",
    "    # TODO: MCMC\n",
    "    pass"
   ]
  },
  {
   "cell_type": "markdown",
   "id": "67066be6-680e-4c00-a6a0-ba10d3849ac8",
   "metadata": {},
   "source": [
    "Affichez les échantillons dans un histogrammes et comparez le avec la distribution analytique."
   ]
  },
  {
   "cell_type": "code",
   "execution_count": null,
   "id": "04ce99e0-7a4a-40fe-aba3-b1a7d39b5697",
   "metadata": {},
   "outputs": [],
   "source": []
  },
  {
   "cell_type": "markdown",
   "id": "0513dcbb-14a9-4b66-b3b9-a003ce3c80ce",
   "metadata": {},
   "source": [
    "Affichez les échantillons en fonction du nombre d'itération."
   ]
  },
  {
   "cell_type": "code",
   "execution_count": null,
   "id": "ad2c7c13-d646-4e12-8a39-2cb7850d4834",
   "metadata": {},
   "outputs": [],
   "source": []
  },
  {
   "cell_type": "markdown",
   "id": "24fcebac-6176-47d6-a0bd-d30161b30204",
   "metadata": {},
   "source": [
    "### Impact de l'échelle de la distribution de proposition\n",
    "\n",
    "Testez différentes échelles pour la distribution de proposition. Quel est l'impact sur l'échantillonnage?"
   ]
  },
  {
   "cell_type": "code",
   "execution_count": null,
   "id": "04da259b-2fba-4d6b-9816-0fa8f29c26c1",
   "metadata": {},
   "outputs": [],
   "source": []
  },
  {
   "cell_type": "markdown",
   "id": "5dccc269",
   "metadata": {},
   "source": [
    "### Distribution Uniforme\n",
    "\n",
    "Répétez les étapes ci-dessus pour une distribution uniforme entre 3 et 7.\n",
    "Attention à bien choisir la valeur initiale pour $\\theta$.\n",
    "\n",
    "Réutilisez la fonction que vous avec codé ci-dessus pour faire le MCMC.\n",
    "\n",
    "Affichez également un histogramme et l'évolution de la chaîne."
   ]
  },
  {
   "cell_type": "code",
   "execution_count": null,
   "id": "3c618ccb-0c8a-421c-b6b4-cc43d3dcfec9",
   "metadata": {},
   "outputs": [],
   "source": []
  },
  {
   "cell_type": "markdown",
   "id": "316c1d43",
   "metadata": {},
   "source": [
    "## Fonction de densité 2D\n",
    "\n",
    "Pour échantilloner un problème plus complexe, on peut généraliser le code ci-dessus à une distribution 2D comme demandé au problème 4 de l'article.\n",
    "\n",
    "Utilisez la matrice de covariance pour la densité $p(\\theta)$ où $\\theta$ est un vecteur 2D.\n",
    "\n",
    "$V = \\begin{bmatrix}2.0 & 1.2\\\\1.2 & 2.0\\end{bmatrix}$.\n",
    "\n",
    "Utilisez une distribution de proposition 2D avec une matrice de covariance identité.\n",
    "\n",
    "Vous pouvez copier et modifier votre fonction 1D et l'ajuster en 2D.\n",
    "\n",
    "Pour chaque paramètre, affichez l'évolution des chaînes et un histogramme.\n",
    "Affichez également une carte 2D des échantillons."
   ]
  },
  {
   "cell_type": "code",
   "execution_count": null,
   "id": "09027fdf",
   "metadata": {
    "lines_to_next_cell": 1
   },
   "outputs": [],
   "source": []
  },
  {
   "cell_type": "markdown",
   "id": "9e377a70",
   "metadata": {},
   "source": [
    "## Bonus: MCMC appliqué à l'analyse de données\n",
    "\n",
    "Utilisez votre MCMC ci-dessus pour échantillonner la distribution à posteriori du devoir 1.\n",
    "Vous devrez copier votre code pour le modèle, les distributions et l'importation des données."
   ]
  }
 ],
 "metadata": {
  "jupytext": {
   "cell_metadata_filter": "-all",
   "main_language": "python",
   "notebook_metadata_filter": "-all"
  },
  "kernelspec": {
   "display_name": "Python 3 (ipykernel)",
   "language": "python",
   "name": "python3"
  },
  "language_info": {
   "codemirror_mode": {
    "name": "ipython",
    "version": 3
   },
   "file_extension": ".py",
   "mimetype": "text/x-python",
   "name": "python",
   "nbconvert_exporter": "python",
   "pygments_lexer": "ipython3",
   "version": "3.13.1"
  }
 },
 "nbformat": 4,
 "nbformat_minor": 5
}
