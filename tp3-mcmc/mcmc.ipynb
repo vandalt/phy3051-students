{
 "cells": [
  {
   "cell_type": "markdown",
   "id": "b1f203d0",
   "metadata": {},
   "source": [
    "# Implémentation d'un _Markov Chain Monte Carlo_ (MCMC) avec l'algorithme de Metropolis.\n",
    "Nous allons suivre les étapes décrite dans l'excellent article d'introduction au MCMC de David W. Hogg et Daniel Foreman-Mackey, disponible [ici](https://ui.adsabs.harvard.edu/abs/2018ApJS..236...11H/abstract).\n",
    "La section 3 sera particulièrement utile pour ce cours."
   ]
  },
  {
   "cell_type": "code",
   "execution_count": null,
   "id": "68a2ce9a",
   "metadata": {
    "lines_to_next_cell": 1
   },
   "outputs": [],
   "source": [
    "from collections.abc import Callable\n",
    "import numpy as np\n",
    "import matplotlib.pyplot as plt\n",
    "import tqdm\n",
    "\n",
    "rng = np.random.default_rng()"
   ]
  },
  {
   "cell_type": "markdown",
   "id": "aba20235",
   "metadata": {},
   "source": [
    "## Fonction de densité unidimensionnelle (Problèmes 2 et 3 de l'article)\n",
    "### Densité Gaussienne\n",
    "Commençons par résoudre le problème no. 2 de l'article:\n",
    "\n",
    "- Fonction de densité $p(x)$ gaussienne à une dimension avec moyenne de 2 et variance de 2.\n",
    "- Distribution de proposition $q(x'|x)$ gaussienne pour $x'$ avec une moyenne $x$ et variance de 1.\n",
    "- Point initial $x = 0$.\n",
    "- Au moins $10^4$ itérations."
   ]
  },
  {
   "cell_type": "code",
   "execution_count": null,
   "id": "acd68087",
   "metadata": {
    "lines_to_next_cell": 1
   },
   "outputs": [],
   "source": [
    "def gaussian_density(x, mean=2, var=2) -> float:\n",
    "    return (np.sqrt(2 * np.pi * var)) ** -1 * np.exp(-0.5 * (x - mean) ** 2 / var)"
   ]
  },
  {
   "cell_type": "code",
   "execution_count": null,
   "id": "42e8bec6",
   "metadata": {
    "lines_to_next_cell": 1
   },
   "outputs": [],
   "source": [
    "def log_gaussian_density(x, mean=2, var=2) -> float:\n",
    "    return -0.5 * (x - mean) ** 2 / var - 0.5 * np.log(2 * np.pi * var)"
   ]
  },
  {
   "cell_type": "code",
   "execution_count": null,
   "id": "5499344e",
   "metadata": {},
   "outputs": [],
   "source": [
    "x_check = np.linspace(-4, 8, num=200)\n",
    "plt.plot(x_check, gaussian_density(x_check), label=\"$\\mathcal{N}$\")\n",
    "plt.plot(x_check, np.exp(log_gaussian_density(x_check)), \"--\", label=\"Exp(Log($\\mathcal{N}$))\")\n",
    "plt.legend()\n",
    "plt.show()"
   ]
  },
  {
   "cell_type": "code",
   "execution_count": null,
   "id": "6dd75325",
   "metadata": {},
   "outputs": [],
   "source": [
    "x0 = 0\n",
    "\n",
    "n_steps = 10_000\n",
    "\n",
    "x = x0\n",
    "\n",
    "x_arr = []\n",
    "for i in tqdm.tqdm(range(n_steps)):\n",
    "    xp = rng.normal(loc=x, scale=1)\n",
    "    r = rng.uniform(low=0.0, high=1.0)\n",
    "    if (log_gaussian_density(xp) - log_gaussian_density(x)) > np.log(r):\n",
    "        x = xp\n",
    "    else:\n",
    "        x = x\n",
    "    x_arr += [x]"
   ]
  },
  {
   "cell_type": "code",
   "execution_count": null,
   "id": "a8f6c882",
   "metadata": {},
   "outputs": [],
   "source": [
    "plt.plot(x_arr)\n",
    "plt.show()"
   ]
  },
  {
   "cell_type": "code",
   "execution_count": null,
   "id": "ba92c1de",
   "metadata": {
    "lines_to_next_cell": 1
   },
   "outputs": [],
   "source": [
    "plt.hist(x_arr, bins=50, density=True, histtype=\"step\", color=\"k\")\n",
    "plt.plot(x_check, gaussian_density(x_check), label=\"$\\mathcal{N}$\")\n",
    "plt.show()"
   ]
  },
  {
   "cell_type": "markdown",
   "id": "ebd4867f",
   "metadata": {},
   "source": [
    "### Distribution Uniforme"
   ]
  },
  {
   "cell_type": "code",
   "execution_count": null,
   "id": "7a850ff9",
   "metadata": {
    "lines_to_next_cell": 1
   },
   "outputs": [],
   "source": [
    "def log_uniform_density(x, low=3, high=7) -> float:\n",
    "    assert low < high, \"Lower bound should be lower than upper bound\"\n",
    "    if low < x < high:\n",
    "        return - np.log(high - low)\n",
    "    return -np.inf"
   ]
  },
  {
   "cell_type": "code",
   "execution_count": null,
   "id": "f7b03196",
   "metadata": {
    "lines_to_next_cell": 1
   },
   "outputs": [],
   "source": [
    "def mcmc_metropolis(log_density: Callable, x0: float, n_steps: int) -> np.ndarray[float]:\n",
    "\n",
    "    x_arr = np.empty(n_steps)\n",
    "\n",
    "    x = x0\n",
    "    for i in range(n_steps):\n",
    "        xp = rng.normal(loc=x, scale=1.0)\n",
    "        r = rng.uniform(low=0.0, high=1.0)\n",
    "        if (log_density(xp) - log_density(x)) > np.log(r):\n",
    "            x = xp\n",
    "        x_arr[i] = x\n",
    "\n",
    "    return x_arr"
   ]
  },
  {
   "cell_type": "code",
   "execution_count": null,
   "id": "c77f1c1a",
   "metadata": {},
   "outputs": [],
   "source": [
    "x_gaussian = mcmc_metropolis(log_gaussian_density, x0=0.0, n_steps=10_000)"
   ]
  },
  {
   "cell_type": "code",
   "execution_count": null,
   "id": "0772135b",
   "metadata": {},
   "outputs": [],
   "source": [
    "plt.plot(x_gaussian)\n",
    "plt.xlabel(\"Step\")\n",
    "plt.ylabel(\"x\")\n",
    "plt.show()"
   ]
  },
  {
   "cell_type": "code",
   "execution_count": null,
   "id": "60709374",
   "metadata": {},
   "outputs": [],
   "source": [
    "plt.hist(x_gaussian, bins=50, density=True, histtype=\"step\", color=\"k\")\n",
    "plt.plot(x_check, gaussian_density(x_check), label=\"$\\mathcal{N}$\")\n",
    "plt.legend()\n",
    "plt.show()"
   ]
  },
  {
   "cell_type": "code",
   "execution_count": null,
   "id": "1a228bad",
   "metadata": {},
   "outputs": [],
   "source": [
    "x_uniform = mcmc_metropolis(log_uniform_density, x0=4.0, n_steps=100_000)"
   ]
  },
  {
   "cell_type": "code",
   "execution_count": null,
   "id": "5a062740",
   "metadata": {},
   "outputs": [],
   "source": [
    "plt.plot(x_uniform)\n",
    "plt.show()"
   ]
  },
  {
   "cell_type": "code",
   "execution_count": null,
   "id": "8fbbec84",
   "metadata": {
    "lines_to_next_cell": 1
   },
   "outputs": [],
   "source": [
    "plt.hist(x_uniform, bins=50, density=True, histtype=\"step\", color=\"k\")\n",
    "plt.plot(x_check, np.exp([log_uniform_density(xi) for xi in x_check]), label=\"$\\mathcal{U}(3, 7)$\")\n",
    "plt.legend()\n",
    "plt.show()"
   ]
  },
  {
   "cell_type": "markdown",
   "id": "2a1ee9d0",
   "metadata": {},
   "source": [
    "## Fonction de densité 2D\n",
    "Pour échantilloner un problème plus complexe, on peut généraliser le code ci-dessus à une distribution 2D"
   ]
  },
  {
   "cell_type": "code",
   "execution_count": null,
   "id": "1d6ec556",
   "metadata": {
    "lines_to_next_cell": 1
   },
   "outputs": [],
   "source": [
    "def mcmc_metropolis(log_density: Callable, x0: np.ndarray[float], n_steps: int, scale: np.ndarray[float] = None) -> np.ndarray[float]:\n",
    "\n",
    "    x0 = np.asarray(x0)\n",
    "\n",
    "    n_dim = len(x0)\n",
    "    x_arr = np.empty((n_steps, n_dim))\n",
    "\n",
    "    scale = scale or 1.0\n",
    "\n",
    "    x = x0\n",
    "    for i in range(n_steps):\n",
    "        xp = rng.normal(loc=x, scale=scale, size=2)\n",
    "        r = rng.uniform(low=0.0, high=1.0)\n",
    "        if (log_density(xp) - log_density(x)) > np.log(r):\n",
    "            x = xp\n",
    "        x_arr[i] = x\n",
    "\n",
    "    return x_arr"
   ]
  },
  {
   "cell_type": "code",
   "execution_count": null,
   "id": "287adf28",
   "metadata": {
    "lines_to_next_cell": 1
   },
   "outputs": [],
   "source": [
    "def log_gaussian_density_2d(x: np.ndarray[float]) -> float:\n",
    "    x = np.asarray(x)\n",
    "    ndim = 2\n",
    "    mu = np.array([0.0, 0.0])\n",
    "    cov = np.array([[2.0, 1.2], [1.2, 2.0]])\n",
    "    assert len(x) == ndim, f\"Wrong number of input dimensions. Got {len(x)}, expected {ndim}\"\n",
    "    return -0.5 * np.log(np.linalg.det(cov)) - 0.5 * ndim * (2 * np.pi) - 0.5 * (x - mu) @ np.linalg.inv(cov) @ (x - mu)"
   ]
  },
  {
   "cell_type": "code",
   "execution_count": null,
   "id": "159ec730",
   "metadata": {},
   "outputs": [],
   "source": [
    "x_check = np.linspace(-5, 5, num=100)\n",
    "y_check = x_check.copy()\n",
    "# y_check = np.linspace(-10, 10, num=100)\n",
    "\n",
    "gauss_grid = np.empty((len(x_check), len(y_check)))\n",
    "for i, xc in enumerate(x_check):\n",
    "    for j, yc in enumerate(y_check):\n",
    "        gauss_grid[j, i] = log_gaussian_density_2d([xc, yc])"
   ]
  },
  {
   "cell_type": "code",
   "execution_count": null,
   "id": "1759c503",
   "metadata": {},
   "outputs": [],
   "source": [
    "plt.pcolormesh(x_check, y_check, np.exp(gauss_grid))\n",
    "plt.xlabel(\"X\")\n",
    "plt.ylabel(\"Y\")\n",
    "plt.show()"
   ]
  },
  {
   "cell_type": "code",
   "execution_count": null,
   "id": "ba5602c1",
   "metadata": {},
   "outputs": [],
   "source": [
    "xy_arr = mcmc_metropolis(log_gaussian_density_2d, [0.0, 0.0], n_steps=10_000)"
   ]
  },
  {
   "cell_type": "code",
   "execution_count": null,
   "id": "0f903720",
   "metadata": {},
   "outputs": [],
   "source": [
    "fig, axs = plt.subplots(nrows=xy_arr.shape[-1])\n",
    "for i in range(xy_arr.shape[-1]):\n",
    "    vals = xy_arr[:, i]\n",
    "    axs[i].plot(vals)\n",
    "axs[0].set_ylabel(\"X\")\n",
    "axs[1].set_ylabel(\"Y\")\n",
    "axs[-1].set_xlabel(\"Step\")\n",
    "plt.show()"
   ]
  },
  {
   "cell_type": "code",
   "execution_count": null,
   "id": "91013dc2",
   "metadata": {},
   "outputs": [],
   "source": [
    "plt.hist(xy_arr[:, 0], bins=50, density=True, histtype=\"step\", color=\"k\")\n",
    "plt.xlabel(\"X\")\n",
    "plt.ylabel(\"Density\")\n",
    "plt.show()"
   ]
  },
  {
   "cell_type": "code",
   "execution_count": null,
   "id": "2195d9dc",
   "metadata": {},
   "outputs": [],
   "source": [
    "plt.hist(xy_arr[:, 1], bins=50, density=True, histtype=\"step\", color=\"k\")\n",
    "plt.xlabel(\"Y\")\n",
    "plt.ylabel(\"Density\")\n",
    "plt.show()"
   ]
  },
  {
   "cell_type": "code",
   "execution_count": null,
   "id": "8f781105",
   "metadata": {},
   "outputs": [],
   "source": [
    "plt.scatter(*xy_arr.T, alpha=0.1)\n",
    "plt.axis(\"square\")\n",
    "plt.show()"
   ]
  },
  {
   "cell_type": "markdown",
   "id": "9aa376ce",
   "metadata": {},
   "source": [
    "## MCMC appliqué à l'analyse de données"
   ]
  },
  {
   "cell_type": "code",
   "execution_count": null,
   "id": "bb5fbe65",
   "metadata": {},
   "outputs": [],
   "source": [
    "from scipy.stats import norm"
   ]
  },
  {
   "cell_type": "code",
   "execution_count": null,
   "id": "adffdfdf",
   "metadata": {},
   "outputs": [],
   "source": [
    "def model(param, x, xpos=10):\n",
    "\n",
    "    A = param[0]\n",
    "    B = param[1]\n",
    "\n",
    "    m = B * np.ones_like(x) + A * norm.pdf((x - xpos) / 1.0)\n",
    "\n",
    "    return m"
   ]
  },
  {
   "cell_type": "code",
   "execution_count": null,
   "id": "9c7bbd91",
   "metadata": {},
   "outputs": [],
   "source": [
    "data = np.loadtxt(\"../../devoir1/data_devoir1.csv\", delimiter=\",\")\n",
    "edata = np.sqrt(data)"
   ]
  },
  {
   "cell_type": "code",
   "execution_count": null,
   "id": "c7f97b9e",
   "metadata": {
    "lines_to_next_cell": 1
   },
   "outputs": [],
   "source": [
    "l = 20\n",
    "x = np.arange(l)\n",
    "\n",
    "fig, ax = plt.subplots()\n",
    "ax.step(x, data, where=\"mid\")\n",
    "ax.errorbar(x, data, yerr=edata, fmt=\"none\", capsize=2)\n",
    "ax.set_xlabel(\"Pixel\")\n",
    "ax.set_ylabel(\"Photons Collected\")\n",
    "plt.show()"
   ]
  },
  {
   "cell_type": "code",
   "execution_count": null,
   "id": "6e681ae9",
   "metadata": {
    "lines_to_next_cell": 1
   },
   "outputs": [],
   "source": [
    "def uniform_prior_scal(pval, minval, maxval):\n",
    "\n",
    "    # NOTE: This simple implementation of prior is enough for scalars and loop\n",
    "    # For arrays we need vectorize with mask.\n",
    "    if (pval < minval) or (pval > maxval):\n",
    "        return 0.0\n",
    "    else:\n",
    "        return 1.0 / (maxval - minval)\n",
    "\n",
    "\n",
    "def uniform_prior(pval, minval, maxval):\n",
    "    if np.isscalar(pval):\n",
    "        return uniform_prior_scal(pval, minval, maxval)\n",
    "    else:\n",
    "        norm_const = 1.0 / (maxval - minval)\n",
    "        return np.where(np.logical_and(pval >= minval, pval <= maxval), norm_const, 0.0)\n",
    "\n",
    "\n",
    "def prior(param):\n",
    "\n",
    "    A = param[0]\n",
    "    B = param[1]\n",
    "\n",
    "    pA = uniform_prior(A, 0, 1000)\n",
    "    pB = uniform_prior(B, 0, 3000)\n",
    "\n",
    "    return pA * pB\n",
    "\n",
    "\n",
    "def likelihood(param, x, data, edata):\n",
    "\n",
    "    mvals = model(param, x)\n",
    "\n",
    "    # NOTE: The scipy function does not normalize by sigma.\n",
    "    # Without it we get ~ -13 exponent instead of -46\n",
    "    return np.prod(edata**-1 * norm.pdf((data - mvals) / edata), axis=0)\n",
    "    # NOTE: Altenative implementation\n",
    "    # return np.product((edata * np.sqrt(2 * np.pi)) ** -1 * np.exp(\n",
    "    #     -0.5 * ((data - mvals) / edata) ** 2\n",
    "    # ), axis=0)\n",
    "\n",
    "def posterior(param, x, data, edata):\n",
    "\n",
    "    return prior(param) * likelihood(param, x, data, edata)"
   ]
  },
  {
   "cell_type": "code",
   "execution_count": null,
   "id": "b540fbaf",
   "metadata": {
    "lines_to_next_cell": 1
   },
   "outputs": [],
   "source": [
    "def log_posterior(param):\n",
    "    lp = np.log(prior(param))\n",
    "    if not np.isfinite(lp):\n",
    "        return - np.inf\n",
    "    return lp + np.log(likelihood(param, x, data, edata))"
   ]
  },
  {
   "cell_type": "code",
   "execution_count": null,
   "id": "ad321f05",
   "metadata": {},
   "outputs": [],
   "source": [
    "A_test = 200\n",
    "B_test = 1860\n",
    "param_test = [A_test, B_test]"
   ]
  },
  {
   "cell_type": "code",
   "execution_count": null,
   "id": "3e6c9ebb",
   "metadata": {},
   "outputs": [],
   "source": [
    "np.log(posterior(param_test, x, data, edata))"
   ]
  },
  {
   "cell_type": "code",
   "execution_count": null,
   "id": "40cd6c91",
   "metadata": {},
   "outputs": [],
   "source": [
    "log_posterior(param_test)"
   ]
  },
  {
   "cell_type": "code",
   "execution_count": null,
   "id": "f02d7839",
   "metadata": {},
   "outputs": [],
   "source": [
    "AB_arr = mcmc_metropolis(log_posterior, param_test, n_steps=50_000)  #, scale=[100.0, 200.0])"
   ]
  },
  {
   "cell_type": "code",
   "execution_count": null,
   "id": "3ba501fb",
   "metadata": {},
   "outputs": [],
   "source": [
    "xy_arr = AB_arr.copy()"
   ]
  },
  {
   "cell_type": "code",
   "execution_count": null,
   "id": "948aa783",
   "metadata": {},
   "outputs": [],
   "source": [
    "fig, axs = plt.subplots(nrows=xy_arr.shape[-1])\n",
    "for i in range(xy_arr.shape[-1]):\n",
    "    vals = xy_arr[:, i]\n",
    "    axs[i].plot(vals)\n",
    "plt.show()"
   ]
  },
  {
   "cell_type": "code",
   "execution_count": null,
   "id": "c5c3c334",
   "metadata": {},
   "outputs": [],
   "source": [
    "plt.hist(xy_arr[:, 0], bins=50, density=True, histtype=\"step\", color=\"k\")\n",
    "plt.show()"
   ]
  },
  {
   "cell_type": "code",
   "execution_count": null,
   "id": "6f9e0692",
   "metadata": {},
   "outputs": [],
   "source": [
    "plt.hist(xy_arr[:, 1], bins=50, density=True, histtype=\"step\", color=\"k\")\n",
    "plt.show()"
   ]
  },
  {
   "cell_type": "code",
   "execution_count": null,
   "id": "4ec11ac6",
   "metadata": {
    "lines_to_next_cell": 2
   },
   "outputs": [],
   "source": [
    "plt.scatter(*xy_arr.T)\n",
    "plt.show()"
   ]
  },
  {
   "cell_type": "code",
   "execution_count": null,
   "id": "574b4594",
   "metadata": {},
   "outputs": [],
   "source": []
  }
 ],
 "metadata": {
  "jupytext": {
   "cell_metadata_filter": "-all",
   "main_language": "python",
   "notebook_metadata_filter": "-all"
  }
 },
 "nbformat": 4,
 "nbformat_minor": 5
}
