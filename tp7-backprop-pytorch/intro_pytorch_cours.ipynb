{
 "cells": [
  {
   "cell_type": "markdown",
   "id": "78af3516-a656-4143-b63a-52cd82d5b504",
   "metadata": {},
   "source": [
    "# Introduction à PyTorch\n",
    "\n",
    "Dans ce notebook, nous allons couvrir les bases de [PyTorch](https://pytorch.org/).\n",
    "PyTorch est une librairie de tenseurs, comme JAX, que nous avons utilisé plus tôt dans le cours.\n",
    "Par rapport à JAX, qui a un écosystème très intéressant pour l'inférence Bayésienne, PyTorch a un écosystème de _deep learning_ beaucoup plus mature, stable et complet.\n",
    "Nous utiliserons PyTorch pour l'apprentissage profound et les réseaux neuronaux dans le reste du cours.\n",
    "Il y a plusieurs avantages à utiliser une telle librairie lorsqu'on travaille avec des réseaux neuronaux artificiels, par exemple:\n",
    "\n",
    "- Calcul des dérivées via la rétropropagation\n",
    "- Utilisation de GPUs\n",
    "- Plusieurs blocs de base requis pour implémenter différents modèles\n",
    "- Plusieurs modèles sont déjà implémentés et disponibles en ligne\n",
    "\n",
    "Tout comme avec JAX, l'interface PyTorch n'est pas trop loin de celle de NumPy dans plusieurs cas.\n",
    "Il y a tout de même certaines subtilités que nous allons couvrir plus bas.\n",
    "\n",
    "## Installation\n",
    "\n",
    "Si ce n'est pas fait, il faut installer PyTorch. Rendez-vous sur [le site web](https://pytorch.org/). Plus bas sur la page il y a une section \"Install PyTorch\".\n",
    "Sélectionnez les options et copiez la commande fournie à côté de \"_Run this command_\".\n",
    "À moins que votre ordinateur n'ait un GPU pour le machine learning, cochez \"CPU\" dans _Compute Platform_.\n",
    "Sur [Google Colab](https://colab.research.google.com/), vous pouvez utiliser CUDA 12.4 (voir [ce tutoriel](https://pytorch.org/tutorials/beginner/colab.html) pour plus de détails).\n",
    "\n",
    "## Tenseurs\n",
    "\n",
    "Habituellement, nous manipulons des ensembles de données via des tableaux NumPy (`np.array`).\n",
    "Avec PyTorch, la structure équivalente est une _tenseur_ (`torch.tensor`)\n",
    "\n",
    "### Création\n",
    "\n",
    "On peut créer les tenseur à partir de listes imbriquées."
   ]
  },
  {
   "cell_type": "code",
   "execution_count": null,
   "id": "ec88507a-23e6-49e5-a5d9-843fc221139f",
   "metadata": {},
   "outputs": [],
   "source": [
    "import torch\n",
    "\n",
    "data = [[1, 2], [3, 3]]\n",
    "data_tensor = torch.tensor(data)\n",
    "print(data_tensor)"
   ]
  },
  {
   "cell_type": "markdown",
   "id": "a5f9c912-e171-4cb2-8366-e72a2e2638b0",
   "metadata": {},
   "source": [
    "Ici, les données sont copiées vers le tenseur: modifier la liste ne modifiera pas le tenseur et vice-versa.\n",
    "\n",
    "On peut également créer notre tenseur à partir d'un tableau NumPy en utilisant `torch.from_numpy()`."
   ]
  },
  {
   "cell_type": "code",
   "execution_count": null,
   "id": "52650e17-75ff-4ffc-8a9d-59a5bbe415da",
   "metadata": {},
   "outputs": [],
   "source": [
    "import numpy as np\n",
    "\n",
    "data_array = np.array(data)\n",
    "data_tensor_np = torch.from_numpy(data_array)\n",
    "print(data_tensor_np)"
   ]
  },
  {
   "cell_type": "markdown",
   "id": "a71c6cc5-b0b4-495d-8798-a2d045f2c705",
   "metadata": {},
   "source": [
    "Quand on crée le tenseur à partir de NumPy, **les objets sont liés en mémoire**.\n",
    "Ceci veut dire qu'une modification au tableau NumPy affectera aussi le tenseur PyTorch.\n",
    "\n",
    "On peut créer une copie pour que les deux objets ne soient plus liés.\n",
    "`torch.Tensor.clone()` est l'équivalent de `np.ndarray.copy()`."
   ]
  },
  {
   "cell_type": "code",
   "execution_count": null,
   "id": "d1f2795d-6ed8-4969-a6ff-133d089bdc4c",
   "metadata": {
    "lines_to_next_cell": 0
   },
   "outputs": [],
   "source": [
    "data_tensor_cloned = data_tensor_np.clone()\n",
    "data_array[0, 0] = 100\n",
    "print(data_array)  # modifié\n",
    "print(data_tensor_np)  # modifié\n",
    "print(data_tensor_cloned)  # original"
   ]
  },
  {
   "cell_type": "markdown",
   "id": "ee0328c7-4d50-4756-a383-d8df130e216b",
   "metadata": {},
   "source": [
    "La majorité des options pour créer un tableau NumPy sont répliquées par PyTorch. Que ce soit avec des constantes ou des nombres aléatoires."
   ]
  },
  {
   "cell_type": "code",
   "execution_count": null,
   "id": "81016d30-5348-4a65-a864-a231a1e8a965",
   "metadata": {},
   "outputs": [],
   "source": [
    "zeros = torch.zeros(2, 3)\n",
    "ones = torch.ones_like(zeros)\n",
    "rand_vals = torch.rand_like(ones)  # Uniforme [0, 1)\n",
    "rand_norm = torch.randn_like(ones)  # Distribution normale\n",
    "rand_ints = torch.randint_like(ones, 10)  # Entiers [0, 10)\n",
    "\n",
    "print(\"Zeros:\", zeros)\n",
    "print(\"Zeros shape:\", zeros.shape)\n",
    "print(\"Ones:\", ones)\n",
    "print(\"Uniforme:\", rand_vals)\n",
    "print(\"Normal:\", rand_norm)\n",
    "print(\"Entiers:\", rand_ints)"
   ]
  },
  {
   "cell_type": "markdown",
   "id": "d0f6aee4-a906-4efb-89c1-24b159d8c4c3",
   "metadata": {},
   "source": [
    "### Opérations\n",
    "\n",
    "Les opérations mathématiques sont effectuées de manière similaire à NumPy: élément par élément."
   ]
  },
  {
   "cell_type": "code",
   "execution_count": null,
   "id": "b8dad270-bb9b-4b67-9f7e-8cc53399116c",
   "metadata": {},
   "outputs": [],
   "source": [
    "print(ones * 5)\n",
    "print(rand_norm * rand_ints)"
   ]
  },
  {
   "cell_type": "markdown",
   "id": "e9f6076d-7c3d-45ce-b8b2-5a4a6191396e",
   "metadata": {},
   "source": [
    "Les opérations logiques fonctionnent également, mais il faut convertir vers un type `bool`:"
   ]
  },
  {
   "cell_type": "code",
   "execution_count": null,
   "id": "2f4eefaa-a66a-4b85-b298-395e57d236e1",
   "metadata": {},
   "outputs": [],
   "source": [
    "# Erreur:\n",
    "try:\n",
    "    print(ones | zeros)\n",
    "except Exception as e:\n",
    "    print(f\"Erreur détectée: {e}\")\n",
    "\n",
    "# On peut changer le type\n",
    "print(ones.to(torch.bool) | zeros.to(torch.bool))\n",
    "print(ones.to(torch.bool) & zeros.to(torch.bool))"
   ]
  },
  {
   "cell_type": "markdown",
   "id": "544222d8-6794-4ab6-9292-7ca97dd009dc",
   "metadata": {},
   "source": [
    "On peut aussi convertir un tensor vers un tableau NumPy"
   ]
  },
  {
   "cell_type": "code",
   "execution_count": null,
   "id": "10c38629-e7fb-42d2-bd82-5e5ff3b00582",
   "metadata": {},
   "outputs": [],
   "source": [
    "print(type(rand_vals))\n",
    "print(rand_vals.numpy())\n",
    "print(type(rand_vals.numpy()))"
   ]
  },
  {
   "cell_type": "markdown",
   "id": "07fe5921-760e-4d01-8873-435c0d1eb7f6",
   "metadata": {},
   "source": [
    "### Matplotlib\n",
    "\n",
    "Les tenseurs PyTorch sont directement compatibles avec Matplotlib."
   ]
  },
  {
   "cell_type": "code",
   "execution_count": null,
   "id": "93ac33ff-b184-4428-9f96-b623fca3ef19",
   "metadata": {},
   "outputs": [],
   "source": [
    "import matplotlib.pyplot as plt\n",
    "plt.style.use(\"tableau-colorblind10\")\n",
    "\n",
    "x = torch.arange(10)\n",
    "y = 3 * x + 1\n",
    "plt.plot(x, y)\n",
    "plt.xlabel(\"x\")\n",
    "plt.ylabel(\"y\")\n",
    "plt.title(\"Graphique avec PyTorch\")\n",
    "plt.show()"
   ]
  },
  {
   "cell_type": "markdown",
   "id": "fe4e7023-c8a0-4d42-8be7-67cab06b9cac",
   "metadata": {},
   "source": [
    "### Utilisation de GPUs\n",
    "\n",
    "Comme mentionné plus haut, un des principaux avantages des tenseurs PyTorch est leur compatibilité avec les GPUs,\n",
    "qui permettent d'accélérer les calculs grâce à la parallélisation.\n",
    "Si comme moi votre ordinateur n'a pas accès à un GPU, la cellule suivante affichera \"`Pas de GPU :(`\"."
   ]
  },
  {
   "cell_type": "code",
   "execution_count": null,
   "id": "5f7a325c-462b-4f07-a26c-341d2b458301",
   "metadata": {},
   "outputs": [],
   "source": [
    "# Si on avait un GPU, on pourrait envoyer le tenseur sur les GPU\n",
    "if torch.cuda.is_available():\n",
    "    print(\"Copié sur CUDA\")\n",
    "    x_data_gpu = data_tensor.to(\"cuda\")\n",
    "else:\n",
    "    print(\"Pas de GPU :(\")"
   ]
  },
  {
   "cell_type": "markdown",
   "id": "957d9201-30df-4448-b454-20c56a7a9e7a",
   "metadata": {},
   "source": [
    "Faire cette petite opération pour chaque tenseur n'est pas très pratique...\n",
    "Une façon simple de ne vérifier qu'une seule fois la disponibilité d'un GPU est de créer une variable `device` qui garde cette information.\n",
    "Ensuite, on peut créer les tenseurs en leur assignant une _device_."
   ]
  },
  {
   "cell_type": "code",
   "execution_count": null,
   "id": "12134018-634c-4125-8ce0-e0b0bb429605",
   "metadata": {},
   "outputs": [],
   "source": [
    "# On peut spécifier une seule fois et utiliser ensuite\n",
    "device = \"cuda\" if torch.cuda.is_available() else \"cpu\"\n",
    "\n",
    "# On peut spécifier le GPU à la création au lieu d'utiliser `.to()`\n",
    "x_with_device = torch.rand(2, 2, device=device)\n",
    "# Ou encore envoyer un tenseur existant\n",
    "data_tensor.to(device)\n",
    "\n",
    "print(x_with_device)\n",
    "print(x_with_device.device)\n",
    "print(x_with_device.is_cuda)"
   ]
  },
  {
   "cell_type": "markdown",
   "id": "22b4ca59-bac4-425a-bebb-32ce25bb62f7",
   "metadata": {},
   "source": [
    "## Autodérivation avec `torch.autograd`\n",
    "\n",
    "Comme nous avons avec JAX, un avantage des libraires de tenseur est le calcul automatique des gradients via l'autodérivation.\n",
    "Pour l'apprentissage profond, cette fonctionnalité est essentielle lors de l'entraînement.\n",
    "L'autodérivation et la rétropropagation sont disponibles dans le module `autograd` de PyTorch.\n",
    "\n",
    "### Suivre les gradients avec `requires_grad` et `grad_fn`\n",
    "\n",
    "Par défaut, un tenseur créé avec directement avec `torch` ne gardera pas de trace des gradients."
   ]
  },
  {
   "cell_type": "code",
   "execution_count": null,
   "id": "69054221-2081-459d-a7ea-b8e322919b80",
   "metadata": {},
   "outputs": [],
   "source": [
    "x_nograd = torch.linspace(0.0, 2 * torch.pi, steps=25)  # pas de gradient\n",
    "print(\"x_nograd:\", x_nograd)\n",
    "print(\"Requires grad:\", x_nograd.requires_grad)"
   ]
  },
  {
   "cell_type": "markdown",
   "id": "48f8e9d6-25a4-4d23-bd51-5ccc1dc3f95c",
   "metadata": {},
   "source": [
    "Il faut activer `autograd` explicitement avec `requires_grad=True`."
   ]
  },
  {
   "cell_type": "code",
   "execution_count": null,
   "id": "45946c15-76cf-469e-b165-8d992d486c1f",
   "metadata": {},
   "outputs": [],
   "source": [
    "x = torch.linspace(0.0, 1.0, steps=50, requires_grad=True)\n",
    "print(\"x:\", x)\n",
    "print(\"Requires grad:\", x.requires_grad)"
   ]
  },
  {
   "cell_type": "markdown",
   "id": "c3abcfd8-0232-42eb-bfb1-2284c5717064",
   "metadata": {},
   "source": [
    "Ensuite, toutes les opérations effectuées sur `x` tracerons le gradient."
   ]
  },
  {
   "cell_type": "code",
   "execution_count": null,
   "id": "3c644193-9f7f-4240-922c-7c6fee60c028",
   "metadata": {},
   "outputs": [],
   "source": [
    "phase = 2 * torch.pi * x\n",
    "print(\"phase:\", phase)\n",
    "print(\"phase.grad_fn:\", phase.grad_fn)"
   ]
  },
  {
   "cell_type": "markdown",
   "id": "b27eca73-e761-4f30-9886-bdfdf56f75d2",
   "metadata": {},
   "source": [
    "On voit ici que PyTorch a enregistré que la fonction donnant le gradient pour `y` est une multiplication.\n",
    "La même chose se produit pour de nouvelles opérations"
   ]
  },
  {
   "cell_type": "code",
   "execution_count": null,
   "id": "0b09dbc9-20b1-40d4-9d0e-a73ac1d567d4",
   "metadata": {},
   "outputs": [],
   "source": [
    "y = torch.sin(phase)\n",
    "print(\"y:\", y)\n",
    "print(\"y.grad_fn:\", y.grad_fn)"
   ]
  },
  {
   "cell_type": "markdown",
   "id": "dcc1ac50-6391-493d-b74d-dcb37147ed82",
   "metadata": {},
   "source": [
    "Remarquez qu'ici seule la dernière opération est affichée.\n",
    "Il est cependant possible de remonter la chaîne des opérations:"
   ]
  },
  {
   "cell_type": "code",
   "execution_count": null,
   "id": "3f03cd42-3589-42d1-bf86-089886b4a083",
   "metadata": {},
   "outputs": [],
   "source": [
    "print(\"y.grad_fn:\", y.grad_fn)\n",
    "print(\"y.grad_fn.next_functions:\", y.grad_fn.next_functions)\n",
    "print(\"Next encore:\", y.grad_fn.next_functions[0][0].next_functions)\n",
    "print(\"Next encore (2x):\", y.grad_fn.next_functions[0][0].next_functions[0][0].next_functions)"
   ]
  },
  {
   "cell_type": "markdown",
   "id": "945524ed-03d3-4806-b2fc-54af1a54753c",
   "metadata": {},
   "source": [
    "Lorsqu'on atteint `AccumulatedGrad`, la chaîne est terminée (nous sommes revenus à `x`).\n",
    "\n",
    "Même les opérations qui ne sont pas directement de l'arithmétique, par exemple une copie avec `x.clone()`, peuvent être suivies par `autograd`."
   ]
  },
  {
   "cell_type": "code",
   "execution_count": null,
   "id": "1a84022a-0247-4a64-b422-d3a26f097efc",
   "metadata": {},
   "outputs": [],
   "source": [
    "print(y.clone())"
   ]
  },
  {
   "cell_type": "markdown",
   "id": "7665ddee-8590-43b4-9edf-95a09f007e3f",
   "metadata": {},
   "source": [
    "Par contre, les tenseurs qui utilisent `requires_grad` ne sont pas compatible avec Matplotlib et NumPy..."
   ]
  },
  {
   "cell_type": "code",
   "execution_count": null,
   "id": "c3844965-34b7-488e-af22-92f1f313d038",
   "metadata": {},
   "outputs": [],
   "source": [
    "try:\n",
    "    plt.plot(x, y)\n",
    "    plt.xlabel(\"x\")\n",
    "    plt.ylabel(\"y\")\n",
    "    plt.title(\"Graphique avec PyTorch\")\n",
    "    plt.show()\n",
    "except Exception as e:\n",
    "    print(\"Oups...\", e)"
   ]
  },
  {
   "cell_type": "markdown",
   "id": "1ef3b3c7-e05f-47c7-8fcc-4adef8bda411",
   "metadata": {},
   "source": [
    "Pour régler ce problème, il suffit de \"détacher\" les gradients.\n",
    "Cette fonction retourne un nouveau tenseur avec les mêmes valeurs, mais sans `requires_grad`."
   ]
  },
  {
   "cell_type": "code",
   "execution_count": null,
   "id": "34747f2f-be33-42af-9103-8341017246ac",
   "metadata": {},
   "outputs": [],
   "source": [
    "print(y.detach())"
   ]
  },
  {
   "cell_type": "code",
   "execution_count": null,
   "id": "6cde1039-73e5-4290-9138-9b89f6ec6ae9",
   "metadata": {},
   "outputs": [],
   "source": [
    "plt.plot(x.detach(), y.detach())\n",
    "plt.xlabel(\"x\")\n",
    "plt.ylabel(\"y\")\n",
    "plt.title(\"Graphique avec PyTorch\")\n",
    "plt.show()"
   ]
  },
  {
   "cell_type": "markdown",
   "id": "44730f70-9221-490e-8acd-cfa0dcb4ec25",
   "metadata": {},
   "source": [
    "### Calcul des gradients\n",
    "\n",
    "Jusqu'à maintenant, nous avons emmagasiné les gradients via `requries_grad` et `grad_fn`, mais nous n'avons jamais demandé à PyTorch de calculer les gradients.\n",
    "Ainsi, l'attribut `grad` de nos tenseurs n'est pas défini."
   ]
  },
  {
   "cell_type": "code",
   "execution_count": null,
   "id": "939c893b-e121-4f2c-84a4-6d0eceb256b2",
   "metadata": {},
   "outputs": [],
   "source": [
    "print(\"x.grad:\", x.grad)"
   ]
  },
  {
   "cell_type": "markdown",
   "id": "e79a957b-b5bb-42c9-bdd1-0ceaf25d8fb2",
   "metadata": {},
   "source": [
    "Pour calculer les gradients, il suffit de prendre dernière sortie de notre chaîne d'opérations (ici `y`) et d'utiliser `.backward()`.\n",
    "Cette fonction exécutera la rétropropagation."
   ]
  },
  {
   "cell_type": "code",
   "execution_count": null,
   "id": "e5caad23-8068-4c2d-ac5d-e94020a3736a",
   "metadata": {},
   "outputs": [],
   "source": [
    "y.backward(torch.ones_like(y))  # Il faut passer le gradient initial quand y n'est pas scalaire, soit 1 ici (y vs y)."
   ]
  },
  {
   "cell_type": "markdown",
   "id": "0ff5a7f0-c831-499c-bd3c-41fcbb409110",
   "metadata": {},
   "source": [
    "Les gradients pour les \"feuilles\" de notre graphe de calcul sont ensuite accessible. Pour obtenir $\\frac{dy}{dx}$, on utilise donc `x.grad`:"
   ]
  },
  {
   "cell_type": "code",
   "execution_count": null,
   "id": "6ab0aac7-3d84-4713-b745-a4e5201c2477",
   "metadata": {},
   "outputs": [],
   "source": [
    "print(\"x.grad:\", x.grad)"
   ]
  },
  {
   "cell_type": "markdown",
   "id": "972a869e-b06b-4445-b31c-b4018e22b17f",
   "metadata": {},
   "source": [
    "Par défaut, les gradients des étapes intermédiaires ne sont pas calculés:"
   ]
  },
  {
   "cell_type": "code",
   "execution_count": null,
   "id": "fc666c18-791a-4909-ace6-3ccaa0c8776a",
   "metadata": {},
   "outputs": [],
   "source": [
    "print(\"phase.grad\", phase.grad)"
   ]
  },
  {
   "cell_type": "markdown",
   "id": "6d7abfee-77de-4ba7-8b38-1b8eaed51b75",
   "metadata": {},
   "source": [
    "Nous n'en aurons pas besoin, donc peut simplement ignorer le message d'avertissement.\n",
    "\n",
    "**Exercice: affichez sur un graphique y en fonction de x ainsi que la dérivée $\\frac{dy}{dx}$**."
   ]
  },
  {
   "cell_type": "code",
   "execution_count": null,
   "id": "f9e8731f-2836-4e0e-bc03-d50e5f65a3c3",
   "metadata": {},
   "outputs": [],
   "source": [
    "plt.plot(x.detach(), y.detach(), label=r\"$y=sin(2 \\pi x)$\")\n",
    "plt.plot(x.detach(), x.grad, label=r\"$\\frac{dy}{dx}$\")\n",
    "plt.xlabel(\"x\")\n",
    "plt.ylabel(\"y\")\n",
    "plt.title(\"Une fonction et son gradient\")\n",
    "plt.legend()\n",
    "plt.show()"
   ]
  },
  {
   "cell_type": "markdown",
   "id": "7d534a27-b7c0-4d78-aa1a-d0fa0852db70",
   "metadata": {},
   "source": [
    "## Créer un modèle PyTorch (Régression linéaire)\n",
    "\n",
    "Une des fonctionnalités très utile de PyTorch est son interface de modélisation `torch.nn`.\n",
    "Elle nous donne plusieurs blocs et fonctions utiles pour construire des réseaux neuronaux.\n",
    "Par contre, elle utilise la programmation orientée objet, donc la syntaxe est un peu différente des fonctions que nous utilisons habituellement.\n",
    "\n",
    "Une façon simple de se familiariser avec l'interface est d'implémenter une régression linéaire.\n",
    "\n",
    "### Données simulées\n",
    "\n",
    "Comme d'habitude, commençons par simuler des données"
   ]
  },
  {
   "cell_type": "code",
   "execution_count": null,
   "id": "5a116788-7c7a-4aeb-b614-fdf12c7a974f",
   "metadata": {},
   "outputs": [],
   "source": [
    "N = 25\n",
    "noise_scale = 1.0\n",
    "w_true, b_true = 2.0, -1.0\n",
    "x = torch.linspace(-5, 5, steps=N)\n",
    "y_true = w_true * x + b_true\n",
    "y = y_true + noise_scale * torch.randn(N)\n",
    "\n",
    "plt.plot(x, y, \"kx\", label=\"Données simulées\")\n",
    "plt.plot(x, y_true, label=\"Vrai signal\", alpha=0.5)\n",
    "plt.xlabel(\"x\")\n",
    "plt.ylabel(\"y\")\n",
    "plt.legend()\n",
    "plt.show()"
   ]
  },
  {
   "cell_type": "markdown",
   "id": "62f9a6bb-85b3-4fd0-a379-8017bfa1e083",
   "metadata": {},
   "source": [
    "### Définition du modèle\n",
    "\n",
    "Pour définir le modèle, il faut:\n",
    "\n",
    "- Créer une classe qui hérite de `nn.Module`, ici `LinearModel`.\n",
    "- Créer une méthode `__init__()`:\n",
    "    - C'est cette méthode qui sera appelée lorsqu'on crée un modèle avec `model = LinearModel()`\n",
    "    - La méthode `__init__` appelle la méthode `__init__()` de sa classe parent. On exécute ainsi le code que PyTorch implémente dans `nn.Module`.\n",
    "    - C'est généralement ici que l'on définira les couches de notre réseau\n",
    "- Créer une méthode `forward`. Cette méthode prend $x$ en entrée et exécute toute les couches de notre modèle.\n",
    "\n",
    "**Rappel: `self` désigne l'objet lui-même et permet d'assigner et d'accéder aux attributs de notre classe.**\n",
    "\n",
    "Dans notre cas, nous avons un modèle linéaire simple. Il faut donc une seule couche linéaire.\n",
    "On pourrait l'implémenter manuellement, mais PyTorch a un bloc `nn.Linear` qui définit exactement ce dont nous avons besoin!\n",
    "Selon [la documentation](https://pytorch.org/docs/stable/generated/torch.nn.Linear.html), `nn.Linear()` exécute\n",
    "$$\n",
    "y = x A^T + b.\n",
    "$$\n",
    "Tout ce que nous avons à faire, c'est de donner les dimensions d'entrée et de sortie. Les paramètre requis (poids et biais) seront créés automatiquement.\n",
    "Dans notre cas nous avons $f : \\mathbb{R} \\rightarrow \\mathbb{R}$, donc les dimensions sont de 1, le modèle sera donc équivalent à `y = a * x + b` où `a` et `b` sont des scalaires.\n",
    "Pour inclure une couche linéaire dans notre modèle, il suffit donc de 1) créer cette couche dans `__init__()` et 2) exécuter cette couche dans `forward()`.\n",
    "Ici, `self.linear` veut simplement dire qu'on emmagasine la couche linéaire dans une variable qui pourra être réutilisée ailleurs dans notre classe.\n"
   ]
  },
  {
   "cell_type": "code",
   "execution_count": null,
   "id": "b0b26b85-9082-4b39-a1d6-88f59b6fa862",
   "metadata": {},
   "outputs": [],
   "source": [
    "from torch import nn\n",
    "class LinearModel(nn.Module):\n",
    "    def __init__(self):\n",
    "        # On appelle la fonction nn.Module.__init__()\n",
    "        # ceci permet au code d'initialisation de PyTorch de s'exécuter\n",
    "        super().__init__()\n",
    "        # On crée une couche linéaire pour l'utiliser dans forward\n",
    "        self.linear = nn.Linear(in_features=1, out_features=1)\n",
    "\n",
    "    def forward(self, x):\n",
    "        return self.linear(x)\n",
    "\n",
    "model = LinearModel()"
   ]
  },
  {
   "cell_type": "markdown",
   "id": "53b0318b-3bb6-4a37-8aa1-c85a6546d4e0",
   "metadata": {},
   "source": [
    "Voilà, notre modèle est créé!\n",
    "\n",
    "Par défaut PyTorch initialise le modèle à des paramètres aléatoires.\n",
    "On peut accéder à ces paramètres."
   ]
  },
  {
   "cell_type": "code",
   "execution_count": null,
   "id": "94b186c0-477d-405b-b0ab-0bc99fe45411",
   "metadata": {},
   "outputs": [],
   "source": [
    "import pprint\n",
    "pprint.pprint(list(model.named_parameters()))"
   ]
  },
  {
   "cell_type": "markdown",
   "id": "891d8ad2-271e-4e2a-8e43-46cc7365576e",
   "metadata": {},
   "source": [
    "On peut ensuite appeler notre modèle sur un point $x$ quelconque.\n",
    "PyTorch s'attend à recevoir un tenseur:"
   ]
  },
  {
   "cell_type": "code",
   "execution_count": null,
   "id": "b65aad65-ae75-49f0-b23c-b35dd2b64966",
   "metadata": {},
   "outputs": [],
   "source": [
    "model(torch.tensor([0.0]))"
   ]
  },
  {
   "cell_type": "markdown",
   "id": "bc17f322-b3ac-43bf-b0cd-a614e2e999be",
   "metadata": {},
   "source": [
    "Si on veut passer plusieurs points à la fois, il faut leur donner le format `(npts, ndim)`."
   ]
  },
  {
   "cell_type": "code",
   "execution_count": null,
   "id": "8b946f5a-2c3a-4d3b-8094-440595a7e748",
   "metadata": {},
   "outputs": [],
   "source": [
    "X_test = torch.tensor([[0.0, 1.0]]).T\n",
    "print(X_test.shape)\n",
    "model(X_test)"
   ]
  },
  {
   "cell_type": "markdown",
   "id": "b86f5aa0-f224-46ac-875c-cba472981145",
   "metadata": {},
   "source": [
    "Il faut donc formatter nos données `x` si on veut les passer dans notre modèle."
   ]
  },
  {
   "cell_type": "code",
   "execution_count": null,
   "id": "977e63ee-cdfc-4600-b988-7d65c6d030d3",
   "metadata": {},
   "outputs": [],
   "source": [
    "X = x.unsqueeze(1)  # Ajoute une dimension à la position ndim, donc à la 2e dimension ici\n",
    "Y = y.unsqueeze(1)\n",
    "ypred = model(X)\n",
    "print(ypred)"
   ]
  },
  {
   "cell_type": "code",
   "execution_count": null,
   "id": "2132d507-de3f-44e8-b9c9-863144b91ffd",
   "metadata": {},
   "outputs": [],
   "source": [
    "plt.plot(x, y, \"kx\", label=\"Données simulées\")\n",
    "plt.plot(x, y_true, label=\"Vrai signal\", alpha=0.5)\n",
    "plt.plot(x, ypred.detach(), label=\"Prédiction initiale\", alpha=0.5)\n",
    "plt.xlabel(\"x\")\n",
    "plt.ylabel(\"y\")\n",
    "plt.legend()\n",
    "plt.show()"
   ]
  },
  {
   "cell_type": "markdown",
   "id": "22645628-6f02-4b2f-abbc-0f23c4b617e7",
   "metadata": {},
   "source": [
    "### Entraînement du modèle (optimisation)\n",
    "\n",
    "Les méthodes d'optimisation PyTorch assez différentes de celles fournies par SciPy.\n",
    "On les utilise typiquement de la façon suivante:\n",
    "\n",
    "- Définition d'une fonction objectif (_loss_)\n",
    "- Définition d'un optimiseur (ici `SGD`)\n",
    "- On crée manuellement une boucle dans laquelle:\n",
    "  - On calcule la fonction de objectif\n",
    "  - On propage les gradients\n",
    "  - On fait faire un pas à l'optimiseur\n",
    "  - On remet les gradients à 0 avant la prochaine itération\n",
    "\n",
    "C'est généralement une bonne idée d'emmagasiner ou d'afficher les valeurs de la fonction objectif pour vérifier son évolution.\n",
    "Si elle varie encore beaucoup, on peut ajouter des itérations.\n",
    "\n",
    "Ici, on utilise l'erreur carrée moyenne pour notre fonction objectif.\n",
    "\n",
    "**Exercice: Complétez la fonction `loss_fn`. Assurez-vous d'utiliser `torch` pour calculer la moyenne.**\n",
    "\n",
    "**Exercice: Créez un tableau vide de taille `niter` pour y placer les valeurs de `loss`. Affichez ces valeurs après l'entraînement pour vérifier la convergence.**"
   ]
  },
  {
   "cell_type": "code",
   "execution_count": null,
   "id": "38fd7839-04d5-4a6d-a90b-699050976ed5",
   "metadata": {},
   "outputs": [],
   "source": [
    "model = LinearModel()\n",
    "\n",
    "def loss_fn(y, ypred):\n",
    "    return torch.mean((y - ypred)**2)\n",
    "\n",
    "# On donne les paramètres du modèle à SGD.\n",
    "# L'optimiseur peut ensuite se servir de leur gradient.\n",
    "optimizer = torch.optim.SGD(model.parameters())\n",
    "\n",
    "niter = 2000\n",
    "\n",
    "loss_vals = torch.empty(niter)\n",
    "for i in range(niter):\n",
    "\n",
    "    # On calcule la prédiction du modèle\n",
    "    # et la fonction objectif\n",
    "    ypred = model(X)\n",
    "    loss = loss_fn(Y, ypred)\n",
    "\n",
    "\n",
    "    loss.backward()  # backprop\n",
    "    optimizer.step()  # un pas dans l'espace-paramètre, utilise le gradietn calculé par loss.backward()\n",
    "    optimizer.zero_grad()  # on réinitialise les gradients pour ne pas les acumuler entre les itérations\n",
    "\n",
    "    loss_vals[i] = loss"
   ]
  },
  {
   "cell_type": "code",
   "execution_count": null,
   "id": "5e451f12-691a-4003-8561-6f0dca178ba7",
   "metadata": {},
   "outputs": [],
   "source": [
    "plt.plot(loss_vals.detach())\n",
    "plt.ylabel(\"MSE\")\n",
    "plt.xlabel(\"x\")\n",
    "plt.title(\"Évolution de la fonction objectif\")\n",
    "plt.show()"
   ]
  },
  {
   "cell_type": "markdown",
   "id": "6773e2cc-9a87-4c05-959c-2d1857705fe5",
   "metadata": {},
   "source": [
    "Voilà, le modèle, est en entraîné!\n",
    "Notez que normalement on utiliserait une partie des données comme ensemble de test et qu'on testerait la généralisation du modèle.\n",
    "Nous en verrons un exemple au prochain cours.\n",
    "Ici, nous allons nous contenter de cette optimisation simple.\n",
    "\n",
    "### Prédictions avec le modèle entraîné\n",
    "\n",
    "Maintenant que le modèle est entraîné, vérifions la valeur des paramètres la prédiction du modèle.\n",
    "\n",
    "**Exercice: affichez la valeur des poids et un graphique montrant la prédiction du modèle.**"
   ]
  },
  {
   "cell_type": "code",
   "execution_count": null,
   "id": "05ee3198-dda8-44f8-a2df-820b2afcfc3a",
   "metadata": {},
   "outputs": [],
   "source": [
    "pprint.pprint(list(model.named_parameters()))"
   ]
  },
  {
   "cell_type": "code",
   "execution_count": null,
   "id": "982a702d-542a-4f98-82da-729a70a941b9",
   "metadata": {
    "lines_to_next_cell": 2
   },
   "outputs": [],
   "source": [
    "ypred = model(X)\n",
    "\n",
    "plt.plot(x, Y, \"kx\", label=\"Données simulées\")\n",
    "plt.plot(x, y_true, label=\"Vrai signal\", alpha=0.5)\n",
    "plt.plot(x, ypred.detach(), label=\"Prédiction\", linestyle=\"--\")\n",
    "plt.xlabel(\"x\")\n",
    "plt.ylabel(\"y\")\n",
    "plt.legend()\n",
    "plt.show()"
   ]
  },
  {
   "cell_type": "markdown",
   "id": "94784341",
   "metadata": {},
   "source": [
    "## Exercice: XOR\n",
    "\n",
    "Tel que vu en classe, l'opération XOR est une opération logique qui prend en entrée deux nombres ($x_1$, $x_2$) et qui retourne:\n",
    "\n",
    "- $y=1$ si l'un des deux nombres est 1, mais pas les deux\n",
    "- $y=0$ si les deux nombres sont 0 ou si les deux nombres sont 1\n",
    "\n",
    "On peut représenter cette situation avec un vecteur $x = [x_1, x_2]$ en entrée et un scalaire $y$ en sortie.\n",
    "\n",
    "Le graphique ci-dessous illustre le problème."
   ]
  },
  {
   "cell_type": "code",
   "execution_count": null,
   "id": "11facce7",
   "metadata": {},
   "outputs": [],
   "source": [
    "X = torch.tensor([[0.0, 0.0], [0.0, 1.0], [1.0, 0.0], [1.0, 1.0]])\n",
    "y = torch.tensor([0.0, 1.0, 1.0, 0.0])\n",
    "Y = y.unsqueeze(1)\n",
    "\n",
    "plt.scatter(X[:, 0], X[:, 1], c=y, s=100, marker='x', label=\"Données\",cmap=\"coolwarm\")\n",
    "plt.xlabel(\"$x_1$\")\n",
    "plt.ylabel(\"$x_2$\")\n",
    "plt.axis(\"square\")\n",
    "plt.title(\"Données pour l'opération XOR\")\n",
    "plt.colorbar(label=\"y\")\n",
    "plt.legend()\n",
    "plt.show()"
   ]
  },
  {
   "cell_type": "markdown",
   "id": "f1149fe3",
   "metadata": {},
   "source": [
    "Nous avons également vu en classe que l'opération XOR ne peut être modélisée par une régression linéaire, mais peut l'être par un petit réseau neuronal contenant une couche cachée de deux neurones.\n",
    "\n",
    "### Régression linéaire\n",
    "\n",
    "Commençons par vérifier que la régression linéaire se comporte comme nous avons vu en classe, c'est à dire qu'elle converge vers des poids à 0 et un biais à 0.5.\n",
    "\n",
    "**Exercice: copiez le modèle de régression linéaire ci-dessus, mais adaptez le pour accepter deux dimensions d'entrée (`in_features`)**\n",
    "**Initialisez ensuite le modèle et testez le sur les données `X`. Imprimez le tenseur retourné.**"
   ]
  },
  {
   "cell_type": "code",
   "execution_count": null,
   "id": "b801416b",
   "metadata": {},
   "outputs": [],
   "source": [
    "# TODO: Régression linéaire 2D vers 1D"
   ]
  },
  {
   "cell_type": "markdown",
   "id": "b932f757",
   "metadata": {},
   "source": [
    "**Imprimez les paramètres du modèle. Le format est-il celui auquel vous vous attendiez?**"
   ]
  },
  {
   "cell_type": "code",
   "execution_count": null,
   "id": "cfe56824",
   "metadata": {},
   "outputs": [],
   "source": [
    "# TODO: Imprimer les paramètres"
   ]
  },
  {
   "cell_type": "markdown",
   "id": "9bda2180",
   "metadata": {},
   "source": [
    "**Copiez la boucle d'entraînement de la section précédente, mais adaptez-la à ce nouveau problème. Assurez-vous d'utiliser `Y` et non `y` pour l'entraînement! Utilisez un nombre d'itération suffisant pour que la fonction objectif semble avoir convergé à une valeur stable.**"
   ]
  },
  {
   "cell_type": "code",
   "execution_count": null,
   "id": "fcc2fa0d",
   "metadata": {},
   "outputs": [],
   "source": [
    "# TODO: Entraînement"
   ]
  },
  {
   "cell_type": "markdown",
   "id": "fdfb7e6d",
   "metadata": {},
   "source": [
    "**Affichez maintenant les paramètres entraînés et la prédiction du modèle. Vous pouvez simplement l'imprimer ou la représenter sur un graphique.**"
   ]
  },
  {
   "cell_type": "code",
   "execution_count": null,
   "id": "a434e7d6",
   "metadata": {},
   "outputs": [],
   "source": [
    "# TODO: Paramètres et prédiction"
   ]
  },
  {
   "cell_type": "markdown",
   "id": "0b0a7031",
   "metadata": {},
   "source": [
    "La prédiction donne le résultat vu en classe.\n",
    "\n",
    "### Réseau neuronal simple\n",
    "\n",
    "Essayons maintenant un réseau neuronal avec une couche cachée de deux neurones et une activation sigmoide.\n",
    "\n",
    "**Implémentez un réseau neuronal avec l'architecture suivante**:\n",
    "\n",
    "- Dans la fonction `__init__()`, définissez:\n",
    "    - Une couche linéaire avec 2 dimensions d'entrée ($x$) et deux dimensions de sortie ($z$)\n",
    "    - Une fonction d'activation sigmoide (`nn.Sigmoid`) qui donnera $h = g(z)$. Vous pouvez la créer avec `self.activation = nn.Sigmoid()`\n",
    "    - Une couche linéaire avec deux dimensions d'entrée ($h$) et une dimension de sortie ($y$)\n",
    "- Dans la fonction `forward()`, appelez les couches dans l'ordre et retournez la valeur y finale."
   ]
  },
  {
   "cell_type": "code",
   "execution_count": null,
   "id": "66312a5c",
   "metadata": {},
   "outputs": [],
   "source": [
    "from torch import nn\n",
    "class TinyNN(nn.Module):\n",
    "    def __init__(self):\n",
    "        # TODO: Fonction init\n",
    "    def forward(self, x):\n",
    "        # TODO: propagation entre les couches"
   ]
  },
  {
   "cell_type": "markdown",
   "id": "aa1fd380",
   "metadata": {},
   "source": [
    "**Initialisez le modèle et affichez ses paramètres**"
   ]
  },
  {
   "cell_type": "code",
   "execution_count": null,
   "id": "685d2dd3",
   "metadata": {},
   "outputs": [],
   "source": [
    "# TODO: Modèle et paramètres"
   ]
  },
  {
   "cell_type": "markdown",
   "id": "d6f34d52",
   "metadata": {},
   "source": [
    "**Optimisez le modèle en complétant la boucle d'optimisation ci-dessous. Affichez ensuite la fonction objectif en fonction du temps.**\n",
    "\n",
    "Ici, l'optimiseur a été modifié pour augmenter le taux d'apprentissage (`lr` pour _learning rate_) et le momentum (que nous verrons dans les prochains cours).\n",
    "La surface d'optimisation est plus complexe et ces paramètres aident à ce que le modèle converge."
   ]
  },
  {
   "cell_type": "code",
   "execution_count": null,
   "id": "2793ca0f",
   "metadata": {},
   "outputs": [],
   "source": [
    "model = TinyNN()\n",
    "\n",
    "optimizer = torch.optim.SGD(model.parameters(), lr=0.02, momentum=0.9)\n",
    "\n",
    "# TODO: Boucle d'entraînement"
   ]
  },
  {
   "cell_type": "markdown",
   "id": "4d62838f",
   "metadata": {},
   "source": [
    "**Affichez maintenant les paramètres entraînés et la prédiction du modèle. Vous pouvez simplement l'imprimer ou la représenter sur un graphique.**\n",
    "\n",
    "Si les résultats ne sont pas satisfaisants, retournez à l'étape d'entraînement et tentez d'ajouter des itérations!"
   ]
  },
  {
   "cell_type": "code",
   "execution_count": null,
   "id": "9f62e65e",
   "metadata": {},
   "outputs": [],
   "source": [
    "# TODO: Paramètres et prédiction"
   ]
  },
  {
   "cell_type": "markdown",
   "id": "6111eb5c",
   "metadata": {},
   "source": [
    "**Utilisez `model.linear1` et `model.activation` pour obtenir les valeurs $h$ de la couche cachées. Affichez les valeurs de $y$ en fonction de $h_1$ et $h_2$. Pourquoi cette représentation améliore-t-elle la performance du modèle?**\n"
   ]
  },
  {
   "cell_type": "code",
   "execution_count": null,
   "id": "2f0e1aa9",
   "metadata": {
    "lines_to_next_cell": 0
   },
   "outputs": [],
   "source": [
    "# TODO: Afficher la représentation intermédiaire h"
   ]
  }
 ],
 "metadata": {
  "jupytext": {
   "cell_metadata_filter": "-all",
   "main_language": "python",
   "notebook_metadata_filter": "-all"
  },
  "kernelspec": {
   "display_name": "phy3051",
   "language": "python",
   "name": "phy3051"
  },
  "language_info": {
   "codemirror_mode": {
    "name": "ipython",
    "version": 3
   },
   "file_extension": ".py",
   "mimetype": "text/x-python",
   "name": "python",
   "nbconvert_exporter": "python",
   "pygments_lexer": "ipython3",
   "version": "3.13.1"
  }
 },
 "nbformat": 4,
 "nbformat_minor": 5
}
